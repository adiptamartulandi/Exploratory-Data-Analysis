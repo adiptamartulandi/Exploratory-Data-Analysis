{
 "cells": [
  {
   "cell_type": "code",
   "execution_count": 136,
   "metadata": {},
   "outputs": [],
   "source": [
    "import pandas as pd\n",
    "import numpy as np\n",
    "import matplotlib.pyplot as plt\n",
    "import seaborn as sns\n",
    "from sklearn.preprocessing import LabelEncoder"
   ]
  },
  {
   "cell_type": "markdown",
   "metadata": {},
   "source": [
    "## 1. Load Dataset"
   ]
  },
  {
   "cell_type": "markdown",
   "metadata": {},
   "source": [
    "In this dataset, each entry represents a person who takes a credit by a bank"
   ]
  },
  {
   "cell_type": "code",
   "execution_count": 97,
   "metadata": {},
   "outputs": [],
   "source": [
    "data = pd.read_csv('D:\\\\Bootcamp\\\\10. Case EDA\\\\german-credit-risk\\\\german_credit_data.csv')"
   ]
  },
  {
   "cell_type": "code",
   "execution_count": 98,
   "metadata": {},
   "outputs": [
    {
     "data": {
      "text/html": [
       "<div>\n",
       "<style scoped>\n",
       "    .dataframe tbody tr th:only-of-type {\n",
       "        vertical-align: middle;\n",
       "    }\n",
       "\n",
       "    .dataframe tbody tr th {\n",
       "        vertical-align: top;\n",
       "    }\n",
       "\n",
       "    .dataframe thead th {\n",
       "        text-align: right;\n",
       "    }\n",
       "</style>\n",
       "<table border=\"1\" class=\"dataframe\">\n",
       "  <thead>\n",
       "    <tr style=\"text-align: right;\">\n",
       "      <th></th>\n",
       "      <th>Unnamed: 0</th>\n",
       "      <th>Age</th>\n",
       "      <th>Sex</th>\n",
       "      <th>Job</th>\n",
       "      <th>Housing</th>\n",
       "      <th>Saving accounts</th>\n",
       "      <th>Checking account</th>\n",
       "      <th>Credit amount</th>\n",
       "      <th>Duration</th>\n",
       "      <th>Purpose</th>\n",
       "    </tr>\n",
       "  </thead>\n",
       "  <tbody>\n",
       "    <tr>\n",
       "      <th>0</th>\n",
       "      <td>0</td>\n",
       "      <td>67</td>\n",
       "      <td>male</td>\n",
       "      <td>2</td>\n",
       "      <td>own</td>\n",
       "      <td>NaN</td>\n",
       "      <td>little</td>\n",
       "      <td>1169</td>\n",
       "      <td>6</td>\n",
       "      <td>radio/TV</td>\n",
       "    </tr>\n",
       "    <tr>\n",
       "      <th>1</th>\n",
       "      <td>1</td>\n",
       "      <td>22</td>\n",
       "      <td>female</td>\n",
       "      <td>2</td>\n",
       "      <td>own</td>\n",
       "      <td>little</td>\n",
       "      <td>moderate</td>\n",
       "      <td>5951</td>\n",
       "      <td>48</td>\n",
       "      <td>radio/TV</td>\n",
       "    </tr>\n",
       "    <tr>\n",
       "      <th>2</th>\n",
       "      <td>2</td>\n",
       "      <td>49</td>\n",
       "      <td>male</td>\n",
       "      <td>1</td>\n",
       "      <td>own</td>\n",
       "      <td>little</td>\n",
       "      <td>NaN</td>\n",
       "      <td>2096</td>\n",
       "      <td>12</td>\n",
       "      <td>education</td>\n",
       "    </tr>\n",
       "    <tr>\n",
       "      <th>3</th>\n",
       "      <td>3</td>\n",
       "      <td>45</td>\n",
       "      <td>male</td>\n",
       "      <td>2</td>\n",
       "      <td>free</td>\n",
       "      <td>little</td>\n",
       "      <td>little</td>\n",
       "      <td>7882</td>\n",
       "      <td>42</td>\n",
       "      <td>furniture/equipment</td>\n",
       "    </tr>\n",
       "    <tr>\n",
       "      <th>4</th>\n",
       "      <td>4</td>\n",
       "      <td>53</td>\n",
       "      <td>male</td>\n",
       "      <td>2</td>\n",
       "      <td>free</td>\n",
       "      <td>little</td>\n",
       "      <td>little</td>\n",
       "      <td>4870</td>\n",
       "      <td>24</td>\n",
       "      <td>car</td>\n",
       "    </tr>\n",
       "  </tbody>\n",
       "</table>\n",
       "</div>"
      ],
      "text/plain": [
       "   Unnamed: 0  Age     Sex  Job Housing Saving accounts Checking account  \\\n",
       "0           0   67    male    2     own             NaN           little   \n",
       "1           1   22  female    2     own          little         moderate   \n",
       "2           2   49    male    1     own          little              NaN   \n",
       "3           3   45    male    2    free          little           little   \n",
       "4           4   53    male    2    free          little           little   \n",
       "\n",
       "   Credit amount  Duration              Purpose  \n",
       "0           1169         6             radio/TV  \n",
       "1           5951        48             radio/TV  \n",
       "2           2096        12            education  \n",
       "3           7882        42  furniture/equipment  \n",
       "4           4870        24                  car  "
      ]
     },
     "execution_count": 98,
     "metadata": {},
     "output_type": "execute_result"
    }
   ],
   "source": [
    "data.head()"
   ]
  },
  {
   "cell_type": "markdown",
   "metadata": {},
   "source": [
    "## 2. Cari tahu lebih dalam tentang data kita"
   ]
  },
  {
   "cell_type": "markdown",
   "metadata": {},
   "source": [
    "1. Age (numeric)\n",
    "2. Sex (text: male, female)\n",
    "3. Job (numeric: 0 - unskilled and non-resident, 1 - unskilled and resident, 2 - skilled, 3 - highly skilled)\n",
    "4. Housing (text: own, rent, or free)\n",
    "5. Saving accounts (text - little, moderate, quite rich, rich)\n",
    "6. Checking account (numeric, in DM - Deutsch Mark)\n",
    "7. Credit amount (numeric, in DM)\n",
    "8. Duration (numeric, in month)\n",
    "9. Purpose (text: car, furniture/equipment, radio/TV, domestic appliances, repairs, education, business, vacation/others)"
   ]
  },
  {
   "cell_type": "code",
   "execution_count": 99,
   "metadata": {},
   "outputs": [
    {
     "data": {
      "text/plain": [
       "(1000, 10)"
      ]
     },
     "execution_count": 99,
     "metadata": {},
     "output_type": "execute_result"
    }
   ],
   "source": [
    "data.shape"
   ]
  },
  {
   "cell_type": "code",
   "execution_count": 100,
   "metadata": {},
   "outputs": [
    {
     "name": "stdout",
     "output_type": "stream",
     "text": [
      "<class 'pandas.core.frame.DataFrame'>\n",
      "RangeIndex: 1000 entries, 0 to 999\n",
      "Data columns (total 10 columns):\n",
      "Unnamed: 0          1000 non-null int64\n",
      "Age                 1000 non-null int64\n",
      "Sex                 1000 non-null object\n",
      "Job                 1000 non-null int64\n",
      "Housing             1000 non-null object\n",
      "Saving accounts     817 non-null object\n",
      "Checking account    606 non-null object\n",
      "Credit amount       1000 non-null int64\n",
      "Duration            1000 non-null int64\n",
      "Purpose             1000 non-null object\n",
      "dtypes: int64(5), object(5)\n",
      "memory usage: 78.2+ KB\n"
     ]
    }
   ],
   "source": [
    "data.info()"
   ]
  },
  {
   "cell_type": "code",
   "execution_count": 101,
   "metadata": {},
   "outputs": [
    {
     "data": {
      "text/plain": [
       "Unnamed: 0           int64\n",
       "Age                  int64\n",
       "Sex                 object\n",
       "Job                  int64\n",
       "Housing             object\n",
       "Saving accounts     object\n",
       "Checking account    object\n",
       "Credit amount        int64\n",
       "Duration             int64\n",
       "Purpose             object\n",
       "dtype: object"
      ]
     },
     "execution_count": 101,
     "metadata": {},
     "output_type": "execute_result"
    }
   ],
   "source": [
    "data.dtypes"
   ]
  },
  {
   "cell_type": "code",
   "execution_count": 102,
   "metadata": {},
   "outputs": [
    {
     "data": {
      "text/html": [
       "<div>\n",
       "<style scoped>\n",
       "    .dataframe tbody tr th:only-of-type {\n",
       "        vertical-align: middle;\n",
       "    }\n",
       "\n",
       "    .dataframe tbody tr th {\n",
       "        vertical-align: top;\n",
       "    }\n",
       "\n",
       "    .dataframe thead th {\n",
       "        text-align: right;\n",
       "    }\n",
       "</style>\n",
       "<table border=\"1\" class=\"dataframe\">\n",
       "  <thead>\n",
       "    <tr style=\"text-align: right;\">\n",
       "      <th></th>\n",
       "      <th>Unnamed: 0</th>\n",
       "      <th>Age</th>\n",
       "      <th>Job</th>\n",
       "      <th>Credit amount</th>\n",
       "      <th>Duration</th>\n",
       "    </tr>\n",
       "  </thead>\n",
       "  <tbody>\n",
       "    <tr>\n",
       "      <th>count</th>\n",
       "      <td>1000.000000</td>\n",
       "      <td>1000.000000</td>\n",
       "      <td>1000.000000</td>\n",
       "      <td>1000.000000</td>\n",
       "      <td>1000.000000</td>\n",
       "    </tr>\n",
       "    <tr>\n",
       "      <th>mean</th>\n",
       "      <td>499.500000</td>\n",
       "      <td>35.546000</td>\n",
       "      <td>1.904000</td>\n",
       "      <td>3271.258000</td>\n",
       "      <td>20.903000</td>\n",
       "    </tr>\n",
       "    <tr>\n",
       "      <th>std</th>\n",
       "      <td>288.819436</td>\n",
       "      <td>11.375469</td>\n",
       "      <td>0.653614</td>\n",
       "      <td>2822.736876</td>\n",
       "      <td>12.058814</td>\n",
       "    </tr>\n",
       "    <tr>\n",
       "      <th>min</th>\n",
       "      <td>0.000000</td>\n",
       "      <td>19.000000</td>\n",
       "      <td>0.000000</td>\n",
       "      <td>250.000000</td>\n",
       "      <td>4.000000</td>\n",
       "    </tr>\n",
       "    <tr>\n",
       "      <th>25%</th>\n",
       "      <td>249.750000</td>\n",
       "      <td>27.000000</td>\n",
       "      <td>2.000000</td>\n",
       "      <td>1365.500000</td>\n",
       "      <td>12.000000</td>\n",
       "    </tr>\n",
       "    <tr>\n",
       "      <th>50%</th>\n",
       "      <td>499.500000</td>\n",
       "      <td>33.000000</td>\n",
       "      <td>2.000000</td>\n",
       "      <td>2319.500000</td>\n",
       "      <td>18.000000</td>\n",
       "    </tr>\n",
       "    <tr>\n",
       "      <th>75%</th>\n",
       "      <td>749.250000</td>\n",
       "      <td>42.000000</td>\n",
       "      <td>2.000000</td>\n",
       "      <td>3972.250000</td>\n",
       "      <td>24.000000</td>\n",
       "    </tr>\n",
       "    <tr>\n",
       "      <th>max</th>\n",
       "      <td>999.000000</td>\n",
       "      <td>75.000000</td>\n",
       "      <td>3.000000</td>\n",
       "      <td>18424.000000</td>\n",
       "      <td>72.000000</td>\n",
       "    </tr>\n",
       "  </tbody>\n",
       "</table>\n",
       "</div>"
      ],
      "text/plain": [
       "        Unnamed: 0          Age          Job  Credit amount     Duration\n",
       "count  1000.000000  1000.000000  1000.000000    1000.000000  1000.000000\n",
       "mean    499.500000    35.546000     1.904000    3271.258000    20.903000\n",
       "std     288.819436    11.375469     0.653614    2822.736876    12.058814\n",
       "min       0.000000    19.000000     0.000000     250.000000     4.000000\n",
       "25%     249.750000    27.000000     2.000000    1365.500000    12.000000\n",
       "50%     499.500000    33.000000     2.000000    2319.500000    18.000000\n",
       "75%     749.250000    42.000000     2.000000    3972.250000    24.000000\n",
       "max     999.000000    75.000000     3.000000   18424.000000    72.000000"
      ]
     },
     "execution_count": 102,
     "metadata": {},
     "output_type": "execute_result"
    }
   ],
   "source": [
    "data.describe()"
   ]
  },
  {
   "cell_type": "markdown",
   "metadata": {},
   "source": [
    "## 3. Handling Missing Values"
   ]
  },
  {
   "cell_type": "code",
   "execution_count": 103,
   "metadata": {},
   "outputs": [
    {
     "data": {
      "text/plain": [
       "Unnamed: 0            0\n",
       "Age                   0\n",
       "Sex                   0\n",
       "Job                   0\n",
       "Housing               0\n",
       "Saving accounts     183\n",
       "Checking account    394\n",
       "Credit amount         0\n",
       "Duration              0\n",
       "Purpose               0\n",
       "dtype: int64"
      ]
     },
     "execution_count": 103,
     "metadata": {},
     "output_type": "execute_result"
    }
   ],
   "source": [
    "count_missing = data.isnull().sum()\n",
    "count_missing # ada 2 kolom yang beberapa datanya missing"
   ]
  },
  {
   "cell_type": "code",
   "execution_count": 104,
   "metadata": {
    "scrolled": true
   },
   "outputs": [
    {
     "data": {
      "text/plain": [
       "Unnamed: 0           0.0\n",
       "Age                  0.0\n",
       "Sex                  0.0\n",
       "Job                  0.0\n",
       "Housing              0.0\n",
       "Saving accounts     18.3\n",
       "Checking account    39.4\n",
       "Credit amount        0.0\n",
       "Duration             0.0\n",
       "Purpose              0.0\n",
       "dtype: float64"
      ]
     },
     "execution_count": 104,
     "metadata": {},
     "output_type": "execute_result"
    }
   ],
   "source": [
    "percentage = round(count_missing/len(data)*100,2)\n",
    "percentage # persentase kolom yang datanya kosong"
   ]
  },
  {
   "cell_type": "markdown",
   "metadata": {},
   "source": [
    "### drop unused columns"
   ]
  },
  {
   "cell_type": "code",
   "execution_count": 105,
   "metadata": {},
   "outputs": [],
   "source": [
    "dropped = ['Unnamed: 0']"
   ]
  },
  {
   "cell_type": "code",
   "execution_count": 106,
   "metadata": {},
   "outputs": [],
   "source": [
    "data.drop(columns=dropped, inplace=True)"
   ]
  },
  {
   "cell_type": "code",
   "execution_count": 107,
   "metadata": {
    "scrolled": true
   },
   "outputs": [
    {
     "data": {
      "text/html": [
       "<div>\n",
       "<style scoped>\n",
       "    .dataframe tbody tr th:only-of-type {\n",
       "        vertical-align: middle;\n",
       "    }\n",
       "\n",
       "    .dataframe tbody tr th {\n",
       "        vertical-align: top;\n",
       "    }\n",
       "\n",
       "    .dataframe thead th {\n",
       "        text-align: right;\n",
       "    }\n",
       "</style>\n",
       "<table border=\"1\" class=\"dataframe\">\n",
       "  <thead>\n",
       "    <tr style=\"text-align: right;\">\n",
       "      <th></th>\n",
       "      <th>Age</th>\n",
       "      <th>Sex</th>\n",
       "      <th>Job</th>\n",
       "      <th>Housing</th>\n",
       "      <th>Saving accounts</th>\n",
       "      <th>Checking account</th>\n",
       "      <th>Credit amount</th>\n",
       "      <th>Duration</th>\n",
       "      <th>Purpose</th>\n",
       "    </tr>\n",
       "  </thead>\n",
       "  <tbody>\n",
       "    <tr>\n",
       "      <th>0</th>\n",
       "      <td>67</td>\n",
       "      <td>male</td>\n",
       "      <td>2</td>\n",
       "      <td>own</td>\n",
       "      <td>NaN</td>\n",
       "      <td>little</td>\n",
       "      <td>1169</td>\n",
       "      <td>6</td>\n",
       "      <td>radio/TV</td>\n",
       "    </tr>\n",
       "    <tr>\n",
       "      <th>1</th>\n",
       "      <td>22</td>\n",
       "      <td>female</td>\n",
       "      <td>2</td>\n",
       "      <td>own</td>\n",
       "      <td>little</td>\n",
       "      <td>moderate</td>\n",
       "      <td>5951</td>\n",
       "      <td>48</td>\n",
       "      <td>radio/TV</td>\n",
       "    </tr>\n",
       "    <tr>\n",
       "      <th>2</th>\n",
       "      <td>49</td>\n",
       "      <td>male</td>\n",
       "      <td>1</td>\n",
       "      <td>own</td>\n",
       "      <td>little</td>\n",
       "      <td>NaN</td>\n",
       "      <td>2096</td>\n",
       "      <td>12</td>\n",
       "      <td>education</td>\n",
       "    </tr>\n",
       "    <tr>\n",
       "      <th>3</th>\n",
       "      <td>45</td>\n",
       "      <td>male</td>\n",
       "      <td>2</td>\n",
       "      <td>free</td>\n",
       "      <td>little</td>\n",
       "      <td>little</td>\n",
       "      <td>7882</td>\n",
       "      <td>42</td>\n",
       "      <td>furniture/equipment</td>\n",
       "    </tr>\n",
       "    <tr>\n",
       "      <th>4</th>\n",
       "      <td>53</td>\n",
       "      <td>male</td>\n",
       "      <td>2</td>\n",
       "      <td>free</td>\n",
       "      <td>little</td>\n",
       "      <td>little</td>\n",
       "      <td>4870</td>\n",
       "      <td>24</td>\n",
       "      <td>car</td>\n",
       "    </tr>\n",
       "  </tbody>\n",
       "</table>\n",
       "</div>"
      ],
      "text/plain": [
       "   Age     Sex  Job Housing Saving accounts Checking account  Credit amount  \\\n",
       "0   67    male    2     own             NaN           little           1169   \n",
       "1   22  female    2     own          little         moderate           5951   \n",
       "2   49    male    1     own          little              NaN           2096   \n",
       "3   45    male    2    free          little           little           7882   \n",
       "4   53    male    2    free          little           little           4870   \n",
       "\n",
       "   Duration              Purpose  \n",
       "0         6             radio/TV  \n",
       "1        48             radio/TV  \n",
       "2        12            education  \n",
       "3        42  furniture/equipment  \n",
       "4        24                  car  "
      ]
     },
     "execution_count": 107,
     "metadata": {},
     "output_type": "execute_result"
    }
   ],
   "source": [
    "data.head()"
   ]
  },
  {
   "cell_type": "markdown",
   "metadata": {},
   "source": [
    "### Fill the misiing values\n",
    "1. Saving accounts fill with data mode karena kategorikal\n",
    "2. Checking acccount fill with data mode karena kategorikal"
   ]
  },
  {
   "cell_type": "code",
   "execution_count": 108,
   "metadata": {},
   "outputs": [],
   "source": [
    "features = ['Saving accounts', 'Checking account']"
   ]
  },
  {
   "cell_type": "code",
   "execution_count": 109,
   "metadata": {},
   "outputs": [],
   "source": [
    "for feature in features:\n",
    "    if feature in data.columns.values:\n",
    "        data[feature] = data[feature].fillna(data[feature].value_counts().index[0])"
   ]
  },
  {
   "cell_type": "code",
   "execution_count": 114,
   "metadata": {},
   "outputs": [
    {
     "data": {
      "text/html": [
       "<div>\n",
       "<style scoped>\n",
       "    .dataframe tbody tr th:only-of-type {\n",
       "        vertical-align: middle;\n",
       "    }\n",
       "\n",
       "    .dataframe tbody tr th {\n",
       "        vertical-align: top;\n",
       "    }\n",
       "\n",
       "    .dataframe thead th {\n",
       "        text-align: right;\n",
       "    }\n",
       "</style>\n",
       "<table border=\"1\" class=\"dataframe\">\n",
       "  <thead>\n",
       "    <tr style=\"text-align: right;\">\n",
       "      <th></th>\n",
       "      <th>Age</th>\n",
       "      <th>Sex</th>\n",
       "      <th>Job</th>\n",
       "      <th>Housing</th>\n",
       "      <th>Saving accounts</th>\n",
       "      <th>Checking account</th>\n",
       "      <th>Credit amount</th>\n",
       "      <th>Duration</th>\n",
       "      <th>Purpose</th>\n",
       "    </tr>\n",
       "  </thead>\n",
       "  <tbody>\n",
       "    <tr>\n",
       "      <th>0</th>\n",
       "      <td>67</td>\n",
       "      <td>male</td>\n",
       "      <td>2</td>\n",
       "      <td>own</td>\n",
       "      <td>little</td>\n",
       "      <td>little</td>\n",
       "      <td>1169</td>\n",
       "      <td>6</td>\n",
       "      <td>radio/TV</td>\n",
       "    </tr>\n",
       "    <tr>\n",
       "      <th>1</th>\n",
       "      <td>22</td>\n",
       "      <td>female</td>\n",
       "      <td>2</td>\n",
       "      <td>own</td>\n",
       "      <td>little</td>\n",
       "      <td>moderate</td>\n",
       "      <td>5951</td>\n",
       "      <td>48</td>\n",
       "      <td>radio/TV</td>\n",
       "    </tr>\n",
       "    <tr>\n",
       "      <th>2</th>\n",
       "      <td>49</td>\n",
       "      <td>male</td>\n",
       "      <td>1</td>\n",
       "      <td>own</td>\n",
       "      <td>little</td>\n",
       "      <td>little</td>\n",
       "      <td>2096</td>\n",
       "      <td>12</td>\n",
       "      <td>education</td>\n",
       "    </tr>\n",
       "    <tr>\n",
       "      <th>3</th>\n",
       "      <td>45</td>\n",
       "      <td>male</td>\n",
       "      <td>2</td>\n",
       "      <td>free</td>\n",
       "      <td>little</td>\n",
       "      <td>little</td>\n",
       "      <td>7882</td>\n",
       "      <td>42</td>\n",
       "      <td>furniture/equipment</td>\n",
       "    </tr>\n",
       "    <tr>\n",
       "      <th>4</th>\n",
       "      <td>53</td>\n",
       "      <td>male</td>\n",
       "      <td>2</td>\n",
       "      <td>free</td>\n",
       "      <td>little</td>\n",
       "      <td>little</td>\n",
       "      <td>4870</td>\n",
       "      <td>24</td>\n",
       "      <td>car</td>\n",
       "    </tr>\n",
       "  </tbody>\n",
       "</table>\n",
       "</div>"
      ],
      "text/plain": [
       "   Age     Sex  Job Housing Saving accounts Checking account  Credit amount  \\\n",
       "0   67    male    2     own          little           little           1169   \n",
       "1   22  female    2     own          little         moderate           5951   \n",
       "2   49    male    1     own          little           little           2096   \n",
       "3   45    male    2    free          little           little           7882   \n",
       "4   53    male    2    free          little           little           4870   \n",
       "\n",
       "   Duration              Purpose  \n",
       "0         6             radio/TV  \n",
       "1        48             radio/TV  \n",
       "2        12            education  \n",
       "3        42  furniture/equipment  \n",
       "4        24                  car  "
      ]
     },
     "execution_count": 114,
     "metadata": {},
     "output_type": "execute_result"
    }
   ],
   "source": [
    "data.head()"
   ]
  },
  {
   "cell_type": "code",
   "execution_count": 115,
   "metadata": {},
   "outputs": [
    {
     "data": {
      "text/plain": [
       "Age                 0\n",
       "Sex                 0\n",
       "Job                 0\n",
       "Housing             0\n",
       "Saving accounts     0\n",
       "Checking account    0\n",
       "Credit amount       0\n",
       "Duration            0\n",
       "Purpose             0\n",
       "dtype: int64"
      ]
     },
     "execution_count": 115,
     "metadata": {},
     "output_type": "execute_result"
    }
   ],
   "source": [
    "data.isnull().sum()"
   ]
  },
  {
   "cell_type": "markdown",
   "metadata": {},
   "source": [
    "## 4. Univariate Analysis"
   ]
  },
  {
   "cell_type": "code",
   "execution_count": 116,
   "metadata": {
    "scrolled": true
   },
   "outputs": [
    {
     "data": {
      "text/html": [
       "<div>\n",
       "<style scoped>\n",
       "    .dataframe tbody tr th:only-of-type {\n",
       "        vertical-align: middle;\n",
       "    }\n",
       "\n",
       "    .dataframe tbody tr th {\n",
       "        vertical-align: top;\n",
       "    }\n",
       "\n",
       "    .dataframe thead th {\n",
       "        text-align: right;\n",
       "    }\n",
       "</style>\n",
       "<table border=\"1\" class=\"dataframe\">\n",
       "  <thead>\n",
       "    <tr style=\"text-align: right;\">\n",
       "      <th></th>\n",
       "      <th>Age</th>\n",
       "      <th>Sex</th>\n",
       "      <th>Job</th>\n",
       "      <th>Housing</th>\n",
       "      <th>Saving accounts</th>\n",
       "      <th>Checking account</th>\n",
       "      <th>Credit amount</th>\n",
       "      <th>Duration</th>\n",
       "      <th>Purpose</th>\n",
       "    </tr>\n",
       "  </thead>\n",
       "  <tbody>\n",
       "    <tr>\n",
       "      <th>0</th>\n",
       "      <td>67</td>\n",
       "      <td>male</td>\n",
       "      <td>2</td>\n",
       "      <td>own</td>\n",
       "      <td>little</td>\n",
       "      <td>little</td>\n",
       "      <td>1169</td>\n",
       "      <td>6</td>\n",
       "      <td>radio/TV</td>\n",
       "    </tr>\n",
       "    <tr>\n",
       "      <th>1</th>\n",
       "      <td>22</td>\n",
       "      <td>female</td>\n",
       "      <td>2</td>\n",
       "      <td>own</td>\n",
       "      <td>little</td>\n",
       "      <td>moderate</td>\n",
       "      <td>5951</td>\n",
       "      <td>48</td>\n",
       "      <td>radio/TV</td>\n",
       "    </tr>\n",
       "    <tr>\n",
       "      <th>2</th>\n",
       "      <td>49</td>\n",
       "      <td>male</td>\n",
       "      <td>1</td>\n",
       "      <td>own</td>\n",
       "      <td>little</td>\n",
       "      <td>little</td>\n",
       "      <td>2096</td>\n",
       "      <td>12</td>\n",
       "      <td>education</td>\n",
       "    </tr>\n",
       "    <tr>\n",
       "      <th>3</th>\n",
       "      <td>45</td>\n",
       "      <td>male</td>\n",
       "      <td>2</td>\n",
       "      <td>free</td>\n",
       "      <td>little</td>\n",
       "      <td>little</td>\n",
       "      <td>7882</td>\n",
       "      <td>42</td>\n",
       "      <td>furniture/equipment</td>\n",
       "    </tr>\n",
       "    <tr>\n",
       "      <th>4</th>\n",
       "      <td>53</td>\n",
       "      <td>male</td>\n",
       "      <td>2</td>\n",
       "      <td>free</td>\n",
       "      <td>little</td>\n",
       "      <td>little</td>\n",
       "      <td>4870</td>\n",
       "      <td>24</td>\n",
       "      <td>car</td>\n",
       "    </tr>\n",
       "  </tbody>\n",
       "</table>\n",
       "</div>"
      ],
      "text/plain": [
       "   Age     Sex  Job Housing Saving accounts Checking account  Credit amount  \\\n",
       "0   67    male    2     own          little           little           1169   \n",
       "1   22  female    2     own          little         moderate           5951   \n",
       "2   49    male    1     own          little           little           2096   \n",
       "3   45    male    2    free          little           little           7882   \n",
       "4   53    male    2    free          little           little           4870   \n",
       "\n",
       "   Duration              Purpose  \n",
       "0         6             radio/TV  \n",
       "1        48             radio/TV  \n",
       "2        12            education  \n",
       "3        42  furniture/equipment  \n",
       "4        24                  car  "
      ]
     },
     "execution_count": 116,
     "metadata": {},
     "output_type": "execute_result"
    }
   ],
   "source": [
    "data.head()"
   ]
  },
  {
   "cell_type": "code",
   "execution_count": 117,
   "metadata": {},
   "outputs": [
    {
     "data": {
      "text/html": [
       "<div>\n",
       "<style scoped>\n",
       "    .dataframe tbody tr th:only-of-type {\n",
       "        vertical-align: middle;\n",
       "    }\n",
       "\n",
       "    .dataframe tbody tr th {\n",
       "        vertical-align: top;\n",
       "    }\n",
       "\n",
       "    .dataframe thead th {\n",
       "        text-align: right;\n",
       "    }\n",
       "</style>\n",
       "<table border=\"1\" class=\"dataframe\">\n",
       "  <thead>\n",
       "    <tr style=\"text-align: right;\">\n",
       "      <th></th>\n",
       "      <th>Age</th>\n",
       "      <th>Job</th>\n",
       "      <th>Credit amount</th>\n",
       "      <th>Duration</th>\n",
       "    </tr>\n",
       "  </thead>\n",
       "  <tbody>\n",
       "    <tr>\n",
       "      <th>count</th>\n",
       "      <td>1000.000000</td>\n",
       "      <td>1000.000000</td>\n",
       "      <td>1000.000000</td>\n",
       "      <td>1000.000000</td>\n",
       "    </tr>\n",
       "    <tr>\n",
       "      <th>mean</th>\n",
       "      <td>35.546000</td>\n",
       "      <td>1.904000</td>\n",
       "      <td>3271.258000</td>\n",
       "      <td>20.903000</td>\n",
       "    </tr>\n",
       "    <tr>\n",
       "      <th>std</th>\n",
       "      <td>11.375469</td>\n",
       "      <td>0.653614</td>\n",
       "      <td>2822.736876</td>\n",
       "      <td>12.058814</td>\n",
       "    </tr>\n",
       "    <tr>\n",
       "      <th>min</th>\n",
       "      <td>19.000000</td>\n",
       "      <td>0.000000</td>\n",
       "      <td>250.000000</td>\n",
       "      <td>4.000000</td>\n",
       "    </tr>\n",
       "    <tr>\n",
       "      <th>25%</th>\n",
       "      <td>27.000000</td>\n",
       "      <td>2.000000</td>\n",
       "      <td>1365.500000</td>\n",
       "      <td>12.000000</td>\n",
       "    </tr>\n",
       "    <tr>\n",
       "      <th>50%</th>\n",
       "      <td>33.000000</td>\n",
       "      <td>2.000000</td>\n",
       "      <td>2319.500000</td>\n",
       "      <td>18.000000</td>\n",
       "    </tr>\n",
       "    <tr>\n",
       "      <th>75%</th>\n",
       "      <td>42.000000</td>\n",
       "      <td>2.000000</td>\n",
       "      <td>3972.250000</td>\n",
       "      <td>24.000000</td>\n",
       "    </tr>\n",
       "    <tr>\n",
       "      <th>max</th>\n",
       "      <td>75.000000</td>\n",
       "      <td>3.000000</td>\n",
       "      <td>18424.000000</td>\n",
       "      <td>72.000000</td>\n",
       "    </tr>\n",
       "  </tbody>\n",
       "</table>\n",
       "</div>"
      ],
      "text/plain": [
       "               Age          Job  Credit amount     Duration\n",
       "count  1000.000000  1000.000000    1000.000000  1000.000000\n",
       "mean     35.546000     1.904000    3271.258000    20.903000\n",
       "std      11.375469     0.653614    2822.736876    12.058814\n",
       "min      19.000000     0.000000     250.000000     4.000000\n",
       "25%      27.000000     2.000000    1365.500000    12.000000\n",
       "50%      33.000000     2.000000    2319.500000    18.000000\n",
       "75%      42.000000     2.000000    3972.250000    24.000000\n",
       "max      75.000000     3.000000   18424.000000    72.000000"
      ]
     },
     "execution_count": 117,
     "metadata": {},
     "output_type": "execute_result"
    }
   ],
   "source": [
    "data.describe()"
   ]
  },
  {
   "cell_type": "markdown",
   "metadata": {},
   "source": [
    "### Cari tahu yuk distribusi dari umur yang mengambil credit di bank"
   ]
  },
  {
   "cell_type": "code",
   "execution_count": 118,
   "metadata": {},
   "outputs": [
    {
     "data": {
      "text/plain": [
       "<matplotlib.axes._subplots.AxesSubplot at 0x2022d7a2860>"
      ]
     },
     "execution_count": 118,
     "metadata": {},
     "output_type": "execute_result"
    },
    {
     "data": {
      "image/png": "[encoded data removed]",
      "text/plain": [
       "<matplotlib.figure.Figure at 0x2022cf1e198>"
      ]
     },
     "metadata": {},
     "output_type": "display_data"
    }
   ],
   "source": [
    "f = plt.figure(figsize=(10,8))\n",
    "\n",
    "f.add_subplot(2,1,1)\n",
    "sns.distplot(data['Age'])\n",
    "\n",
    "f.add_subplot(2,1,2)\n",
    "sns.boxplot(data['Age'], color='green')"
   ]
  },
  {
   "cell_type": "markdown",
   "metadata": {},
   "source": [
    "1. dari 2 plot diatas dapat diambil insights bahwa sebagian besar yang mengambil kredit di bank adalah orang yang berumur diantara 27 - 42 tahun. mungkin ini adalah orang yang baru menikah dan membutuhkan pinjaman dari bank.\n",
    "<br>\n",
    "2. umur dibawah 20 tahun sangat sedikit yang mengambil credit karena memang mungkin mereka masih muda dan financial mereka masih disokong oleh orang tua mereka.\n",
    "<br>\n",
    "3. sedangkan untuk umur diatas 50 tahun juga relatif sedikit yang mengambil kredit, mungkin karena di umur ini orang sudah mapan."
   ]
  },
  {
   "cell_type": "markdown",
   "metadata": {},
   "source": [
    "### Apakah perbedaan gender berpengaruh ?"
   ]
  },
  {
   "cell_type": "code",
   "execution_count": 119,
   "metadata": {},
   "outputs": [
    {
     "data": {
      "text/plain": [
       "<matplotlib.axes._subplots.AxesSubplot at 0x2022f0dc2e8>"
      ]
     },
     "execution_count": 119,
     "metadata": {},
     "output_type": "execute_result"
    },
    {
     "data": {
      "image/png": "[encoded data removed]",
      "text/plain": [
       "<matplotlib.figure.Figure at 0x2022db61f28>"
      ]
     },
     "metadata": {},
     "output_type": "display_data"
    }
   ],
   "source": [
    "plt.figure(figsize=(8,4))\n",
    "sns.countplot(data['Sex'])"
   ]
  },
  {
   "cell_type": "markdown",
   "metadata": {},
   "source": [
    "ternyata laki laki lebih banyak mengambil kredit daripada perempuan."
   ]
  },
  {
   "cell_type": "markdown",
   "metadata": {},
   "source": [
    "### Bagaimana hubunganya dengan housing dan job ?"
   ]
  },
  {
   "cell_type": "code",
   "execution_count": 120,
   "metadata": {},
   "outputs": [
    {
     "data": {
      "text/plain": [
       "<matplotlib.axes._subplots.AxesSubplot at 0x2022cfe5b38>"
      ]
     },
     "execution_count": 120,
     "metadata": {},
     "output_type": "execute_result"
    },
    {
     "data": {
      "image/png": "[encoded data removed]",
      "text/plain": [
       "<matplotlib.figure.Figure at 0x2022d0dcc18>"
      ]
     },
     "metadata": {},
     "output_type": "display_data"
    }
   ],
   "source": [
    "f = plt.figure(figsize=(10,8))\n",
    "\n",
    "f.add_subplot(2,1,1)\n",
    "sns.countplot(data['Job'])\n",
    "\n",
    "f.add_subplot(2,1,2)\n",
    "sns.countplot(data['Housing'])"
   ]
  },
  {
   "cell_type": "markdown",
   "metadata": {},
   "source": [
    "dilihat dari grafik diatas:\n",
    "1. ternyata paling banyak yang meminjam credit adalah yang jobnya tipe skilled dan yang sudah memiliki rumah\n",
    "<br>\n",
    "2. apakah memang bank hanya memberikan credit terhadap penduduk yang jobnya skilled dan memiliki rumah ? karena bank percaya mereka akan bisa mengembalikan uang pinjaman. atau hanya penduduk yang seperti di atas yang berani meminjam uang ?"
   ]
  },
  {
   "cell_type": "markdown",
   "metadata": {},
   "source": [
    "### Lalu bagaimana distribusi dari jumlah pinjaman ?"
   ]
  },
  {
   "cell_type": "code",
   "execution_count": 121,
   "metadata": {},
   "outputs": [
    {
     "data": {
      "text/plain": [
       "<matplotlib.axes._subplots.AxesSubplot at 0x2022cfef6a0>"
      ]
     },
     "execution_count": 121,
     "metadata": {},
     "output_type": "execute_result"
    },
    {
     "data": {
      "image/png": "[encoded data removed]",
      "text/plain": [
       "<matplotlib.figure.Figure at 0x2022cc09b38>"
      ]
     },
     "metadata": {},
     "output_type": "display_data"
    }
   ],
   "source": [
    "g = plt.figure(figsize=(10,8))\n",
    "\n",
    "g.add_subplot(2,1,1)\n",
    "sns.boxplot(data['Credit amount'])\n",
    "\n",
    "g.add_subplot(2,1,2)\n",
    "sns.violinplot(data['Credit amount'], color='green')"
   ]
  },
  {
   "cell_type": "markdown",
   "metadata": {},
   "source": [
    "1. dari boxplot bisa dilihat bahwa ternyata banyak sekali data outlier.\n",
    "2. dari keduaplot bisa diketahui bahwa sebagian besar orang meminjam uang dari bank dengan nilai diantara 2000 - 3800 us dollars"
   ]
  },
  {
   "cell_type": "markdown",
   "metadata": {},
   "source": [
    "### Duration, saya mencernanya ini itu berapa lama orang akan melunasi creditnya"
   ]
  },
  {
   "cell_type": "code",
   "execution_count": 122,
   "metadata": {},
   "outputs": [],
   "source": [
    "top_duration = data.groupby('Duration').Age.count().reset_index()\n",
    "top_duration.rename(columns={'Age':'count'}, inplace=True)\n",
    "top_duration = top_duration.nlargest(50, 'count')"
   ]
  },
  {
   "cell_type": "code",
   "execution_count": 123,
   "metadata": {},
   "outputs": [
    {
     "data": {
      "text/plain": [
       "<matplotlib.axes._subplots.AxesSubplot at 0x2022d3dd0f0>"
      ]
     },
     "execution_count": 123,
     "metadata": {},
     "output_type": "execute_result"
    },
    {
     "data": {
      "image/png": "[encoded data removed]",
      "text/plain": [
       "<matplotlib.figure.Figure at 0x2022cbeceb8>"
      ]
     },
     "metadata": {},
     "output_type": "display_data"
    }
   ],
   "source": [
    "plt.figure(figsize=(10,5))\n",
    "sns.barplot(data=top_duration, y=top_duration['count'], x=top_duration['Duration'])"
   ]
  },
  {
   "cell_type": "markdown",
   "metadata": {},
   "source": [
    "sebagian besar orang memilih untuk melunasi kredit dengan jangka waktu 24 bulan dan 12 bulan."
   ]
  },
  {
   "cell_type": "markdown",
   "metadata": {},
   "source": [
    "### Untuk apa saja mereka meminjam kredit ?"
   ]
  },
  {
   "cell_type": "code",
   "execution_count": 124,
   "metadata": {},
   "outputs": [
    {
     "data": {
      "image/png": "[encoded data removed]",
      "text/plain": [
       "<matplotlib.figure.Figure at 0x2022d2cc358>"
      ]
     },
     "metadata": {},
     "output_type": "display_data"
    }
   ],
   "source": [
    "plt.figure(figsize=(10,5))\n",
    "plot = sns.countplot(data['Purpose'])\n",
    "plt.setp(plot.get_xticklabels(), rotation=45)\n",
    "plt.show()"
   ]
  },
  {
   "cell_type": "markdown",
   "metadata": {},
   "source": [
    "Ternyata rata-rata orang meminjam kredit untuk memenuhi kebutuhan tersier seperi membeli mobil / radio dan tv"
   ]
  },
  {
   "cell_type": "markdown",
   "metadata": {},
   "source": [
    "### coba kita cari tahu tentang saving accounts dan checking accounts"
   ]
  },
  {
   "cell_type": "code",
   "execution_count": 125,
   "metadata": {},
   "outputs": [
    {
     "data": {
      "text/plain": [
       "array(['little', 'quite rich', 'rich', 'moderate'], dtype=object)"
      ]
     },
     "execution_count": 125,
     "metadata": {},
     "output_type": "execute_result"
    }
   ],
   "source": [
    "data['Saving accounts'].unique()"
   ]
  },
  {
   "cell_type": "code",
   "execution_count": 127,
   "metadata": {},
   "outputs": [
    {
     "data": {
      "text/plain": [
       "array(['little', 'moderate', 'rich'], dtype=object)"
      ]
     },
     "execution_count": 127,
     "metadata": {},
     "output_type": "execute_result"
    }
   ],
   "source": [
    "data['Checking account'].unique()"
   ]
  },
  {
   "cell_type": "code",
   "execution_count": 132,
   "metadata": {},
   "outputs": [
    {
     "data": {
      "text/plain": [
       "<matplotlib.axes._subplots.AxesSubplot at 0x2022f9ff860>"
      ]
     },
     "execution_count": 132,
     "metadata": {},
     "output_type": "execute_result"
    },
    {
     "data": {
      "image/png": "[encoded data removed]",
      "text/plain": [
       "<matplotlib.figure.Figure at 0x2022f9b1630>"
      ]
     },
     "metadata": {},
     "output_type": "display_data"
    }
   ],
   "source": [
    "h = plt.figure(figsize=(20,6))\n",
    "\n",
    "h.add_subplot(1,2,1)\n",
    "sns.countplot(data['Saving accounts'])\n",
    "\n",
    "h.add_subplot(1,2,2)\n",
    "sns.countplot(data['Checking account'], color='green')"
   ]
  },
  {
   "cell_type": "markdown",
   "metadata": {},
   "source": [
    "ternyata memang sebagian besar orang yang meminjam di bank adalah yang mempunya saving and checking account yang sedikit"
   ]
  },
  {
   "cell_type": "markdown",
   "metadata": {},
   "source": [
    "## 5. Bivariate Analysis"
   ]
  },
  {
   "cell_type": "code",
   "execution_count": 133,
   "metadata": {
    "scrolled": true
   },
   "outputs": [
    {
     "data": {
      "text/plain": [
       "Age                  int64\n",
       "Sex                 object\n",
       "Job                  int64\n",
       "Housing             object\n",
       "Saving accounts     object\n",
       "Checking account    object\n",
       "Credit amount        int64\n",
       "Duration             int64\n",
       "Purpose             object\n",
       "dtype: object"
      ]
     },
     "execution_count": 133,
     "metadata": {},
     "output_type": "execute_result"
    }
   ],
   "source": [
    "data.dtypes"
   ]
  },
  {
   "cell_type": "markdown",
   "metadata": {},
   "source": [
    "### Mengubah data kategorikal ke numerikal dengan label encoder"
   ]
  },
  {
   "cell_type": "code",
   "execution_count": 134,
   "metadata": {},
   "outputs": [],
   "source": [
    "kategorikal = ['Sex', 'Housing', 'Saving accounts', 'Checking account', 'Purpose']"
   ]
  },
  {
   "cell_type": "code",
   "execution_count": 135,
   "metadata": {},
   "outputs": [],
   "source": [
    "data2 = data.copy()"
   ]
  },
  {
   "cell_type": "code",
   "execution_count": 137,
   "metadata": {},
   "outputs": [],
   "source": [
    "for feature in kategorikal:\n",
    "    if feature in data2.columns.values:\n",
    "        data2[feature] = LabelEncoder().fit_transform(data2[feature])"
   ]
  },
  {
   "cell_type": "code",
   "execution_count": 139,
   "metadata": {},
   "outputs": [
    {
     "data": {
      "text/html": [
       "<div>\n",
       "<style scoped>\n",
       "    .dataframe tbody tr th:only-of-type {\n",
       "        vertical-align: middle;\n",
       "    }\n",
       "\n",
       "    .dataframe tbody tr th {\n",
       "        vertical-align: top;\n",
       "    }\n",
       "\n",
       "    .dataframe thead th {\n",
       "        text-align: right;\n",
       "    }\n",
       "</style>\n",
       "<table border=\"1\" class=\"dataframe\">\n",
       "  <thead>\n",
       "    <tr style=\"text-align: right;\">\n",
       "      <th></th>\n",
       "      <th>Age</th>\n",
       "      <th>Sex</th>\n",
       "      <th>Job</th>\n",
       "      <th>Housing</th>\n",
       "      <th>Saving accounts</th>\n",
       "      <th>Checking account</th>\n",
       "      <th>Credit amount</th>\n",
       "      <th>Duration</th>\n",
       "      <th>Purpose</th>\n",
       "    </tr>\n",
       "  </thead>\n",
       "  <tbody>\n",
       "    <tr>\n",
       "      <th>0</th>\n",
       "      <td>67</td>\n",
       "      <td>1</td>\n",
       "      <td>2</td>\n",
       "      <td>1</td>\n",
       "      <td>0</td>\n",
       "      <td>0</td>\n",
       "      <td>1169</td>\n",
       "      <td>6</td>\n",
       "      <td>5</td>\n",
       "    </tr>\n",
       "    <tr>\n",
       "      <th>1</th>\n",
       "      <td>22</td>\n",
       "      <td>0</td>\n",
       "      <td>2</td>\n",
       "      <td>1</td>\n",
       "      <td>0</td>\n",
       "      <td>1</td>\n",
       "      <td>5951</td>\n",
       "      <td>48</td>\n",
       "      <td>5</td>\n",
       "    </tr>\n",
       "    <tr>\n",
       "      <th>2</th>\n",
       "      <td>49</td>\n",
       "      <td>1</td>\n",
       "      <td>1</td>\n",
       "      <td>1</td>\n",
       "      <td>0</td>\n",
       "      <td>0</td>\n",
       "      <td>2096</td>\n",
       "      <td>12</td>\n",
       "      <td>3</td>\n",
       "    </tr>\n",
       "    <tr>\n",
       "      <th>3</th>\n",
       "      <td>45</td>\n",
       "      <td>1</td>\n",
       "      <td>2</td>\n",
       "      <td>0</td>\n",
       "      <td>0</td>\n",
       "      <td>0</td>\n",
       "      <td>7882</td>\n",
       "      <td>42</td>\n",
       "      <td>4</td>\n",
       "    </tr>\n",
       "    <tr>\n",
       "      <th>4</th>\n",
       "      <td>53</td>\n",
       "      <td>1</td>\n",
       "      <td>2</td>\n",
       "      <td>0</td>\n",
       "      <td>0</td>\n",
       "      <td>0</td>\n",
       "      <td>4870</td>\n",
       "      <td>24</td>\n",
       "      <td>1</td>\n",
       "    </tr>\n",
       "  </tbody>\n",
       "</table>\n",
       "</div>"
      ],
      "text/plain": [
       "   Age  Sex  Job  Housing  Saving accounts  Checking account  Credit amount  \\\n",
       "0   67    1    2        1                0                 0           1169   \n",
       "1   22    0    2        1                0                 1           5951   \n",
       "2   49    1    1        1                0                 0           2096   \n",
       "3   45    1    2        0                0                 0           7882   \n",
       "4   53    1    2        0                0                 0           4870   \n",
       "\n",
       "   Duration  Purpose  \n",
       "0         6        5  \n",
       "1        48        5  \n",
       "2        12        3  \n",
       "3        42        4  \n",
       "4        24        1  "
      ]
     },
     "execution_count": 139,
     "metadata": {},
     "output_type": "execute_result"
    }
   ],
   "source": [
    "data2.head()"
   ]
  },
  {
   "cell_type": "markdown",
   "metadata": {},
   "source": [
    "### Korelasi plot"
   ]
  },
  {
   "cell_type": "code",
   "execution_count": 144,
   "metadata": {},
   "outputs": [
    {
     "data": {
      "text/html": [
       "<style  type=\"text/css\" >\n",
       "    #T_e80331f0_c96d_11e9_b1a4_7440bb9efc3erow0_col0 {\n",
       "            background-color:  #023858;\n",
       "        }    #T_e80331f0_c96d_11e9_b1a4_7440bb9efc3erow0_col1 {\n",
       "            background-color:  #fff7fb;\n",
       "        }    #T_e80331f0_c96d_11e9_b1a4_7440bb9efc3erow0_col2 {\n",
       "            background-color:  #fbf4f9;\n",
       "        }    #T_e80331f0_c96d_11e9_b1a4_7440bb9efc3erow0_col3 {\n",
       "            background-color:  #fef6fa;\n",
       "        }    #T_e80331f0_c96d_11e9_b1a4_7440bb9efc3erow0_col4 {\n",
       "            background-color:  #fff7fb;\n",
       "        }    #T_e80331f0_c96d_11e9_b1a4_7440bb9efc3erow1_col0 {\n",
       "            background-color:  #fff7fb;\n",
       "        }    #T_e80331f0_c96d_11e9_b1a4_7440bb9efc3erow1_col1 {\n",
       "            background-color:  #023858;\n",
       "        }    #T_e80331f0_c96d_11e9_b1a4_7440bb9efc3erow1_col2 {\n",
       "            background-color:  #f4edf6;\n",
       "        }    #T_e80331f0_c96d_11e9_b1a4_7440bb9efc3erow1_col3 {\n",
       "            background-color:  #fff7fb;\n",
       "        }    #T_e80331f0_c96d_11e9_b1a4_7440bb9efc3erow1_col4 {\n",
       "            background-color:  #f6eff7;\n",
       "        }    #T_e80331f0_c96d_11e9_b1a4_7440bb9efc3erow2_col0 {\n",
       "            background-color:  #e0deed;\n",
       "        }    #T_e80331f0_c96d_11e9_b1a4_7440bb9efc3erow2_col1 {\n",
       "            background-color:  #d8d7e9;\n",
       "        }    #T_e80331f0_c96d_11e9_b1a4_7440bb9efc3erow2_col2 {\n",
       "            background-color:  #023858;\n",
       "        }    #T_e80331f0_c96d_11e9_b1a4_7440bb9efc3erow2_col3 {\n",
       "            background-color:  #f4eef6;\n",
       "        }    #T_e80331f0_c96d_11e9_b1a4_7440bb9efc3erow2_col4 {\n",
       "            background-color:  #fcf4fa;\n",
       "        }    #T_e80331f0_c96d_11e9_b1a4_7440bb9efc3erow3_col0 {\n",
       "            background-color:  #e2dfee;\n",
       "        }    #T_e80331f0_c96d_11e9_b1a4_7440bb9efc3erow3_col1 {\n",
       "            background-color:  #e4e1ef;\n",
       "        }    #T_e80331f0_c96d_11e9_b1a4_7440bb9efc3erow3_col2 {\n",
       "            background-color:  #f3edf5;\n",
       "        }    #T_e80331f0_c96d_11e9_b1a4_7440bb9efc3erow3_col3 {\n",
       "            background-color:  #023858;\n",
       "        }    #T_e80331f0_c96d_11e9_b1a4_7440bb9efc3erow3_col4 {\n",
       "            background-color:  #f6eff7;\n",
       "        }    #T_e80331f0_c96d_11e9_b1a4_7440bb9efc3erow4_col0 {\n",
       "            background-color:  #e9e5f1;\n",
       "        }    #T_e80331f0_c96d_11e9_b1a4_7440bb9efc3erow4_col1 {\n",
       "            background-color:  #dedcec;\n",
       "        }    #T_e80331f0_c96d_11e9_b1a4_7440bb9efc3erow4_col2 {\n",
       "            background-color:  #fff7fb;\n",
       "        }    #T_e80331f0_c96d_11e9_b1a4_7440bb9efc3erow4_col3 {\n",
       "            background-color:  #faf3f9;\n",
       "        }    #T_e80331f0_c96d_11e9_b1a4_7440bb9efc3erow4_col4 {\n",
       "            background-color:  #023858;\n",
       "        }</style>  \n",
       "<table id=\"T_e80331f0_c96d_11e9_b1a4_7440bb9efc3e\" > \n",
       "<thead>    <tr> \n",
       "        <th class=\"blank level0\" ></th> \n",
       "        <th class=\"col_heading level0 col0\" >Sex</th> \n",
       "        <th class=\"col_heading level0 col1\" >Housing</th> \n",
       "        <th class=\"col_heading level0 col2\" >Saving accounts</th> \n",
       "        <th class=\"col_heading level0 col3\" >Checking account</th> \n",
       "        <th class=\"col_heading level0 col4\" >Purpose</th> \n",
       "    </tr></thead> \n",
       "<tbody>    <tr> \n",
       "        <th id=\"T_e80331f0_c96d_11e9_b1a4_7440bb9efc3elevel0_row0\" class=\"row_heading level0 row0\" >Sex</th> \n",
       "        <td id=\"T_e80331f0_c96d_11e9_b1a4_7440bb9efc3erow0_col0\" class=\"data row0 col0\" >1</td> \n",
       "        <td id=\"T_e80331f0_c96d_11e9_b1a4_7440bb9efc3erow0_col1\" class=\"data row0 col1\" >-0.22</td> \n",
       "        <td id=\"T_e80331f0_c96d_11e9_b1a4_7440bb9efc3erow0_col2\" class=\"data row0 col2\" >-0.006</td> \n",
       "        <td id=\"T_e80331f0_c96d_11e9_b1a4_7440bb9efc3erow0_col3\" class=\"data row0 col3\" >-0.014</td> \n",
       "        <td id=\"T_e80331f0_c96d_11e9_b1a4_7440bb9efc3erow0_col4\" class=\"data row0 col4\" >-0.055</td> \n",
       "    </tr>    <tr> \n",
       "        <th id=\"T_e80331f0_c96d_11e9_b1a4_7440bb9efc3elevel0_row1\" class=\"row_heading level0 row1\" >Housing</th> \n",
       "        <td id=\"T_e80331f0_c96d_11e9_b1a4_7440bb9efc3erow1_col0\" class=\"data row1 col0\" >-0.22</td> \n",
       "        <td id=\"T_e80331f0_c96d_11e9_b1a4_7440bb9efc3erow1_col1\" class=\"data row1 col1\" >1</td> \n",
       "        <td id=\"T_e80331f0_c96d_11e9_b1a4_7440bb9efc3erow1_col2\" class=\"data row1 col2\" >0.045</td> \n",
       "        <td id=\"T_e80331f0_c96d_11e9_b1a4_7440bb9efc3erow1_col3\" class=\"data row1 col3\" >-0.023</td> \n",
       "        <td id=\"T_e80331f0_c96d_11e9_b1a4_7440bb9efc3erow1_col4\" class=\"data row1 col4\" >0.0087</td> \n",
       "    </tr>    <tr> \n",
       "        <th id=\"T_e80331f0_c96d_11e9_b1a4_7440bb9efc3elevel0_row2\" class=\"row_heading level0 row2\" >Saving accounts</th> \n",
       "        <td id=\"T_e80331f0_c96d_11e9_b1a4_7440bb9efc3erow2_col0\" class=\"data row2 col0\" >-0.006</td> \n",
       "        <td id=\"T_e80331f0_c96d_11e9_b1a4_7440bb9efc3erow2_col1\" class=\"data row2 col1\" >0.045</td> \n",
       "        <td id=\"T_e80331f0_c96d_11e9_b1a4_7440bb9efc3erow2_col2\" class=\"data row2 col2\" >1</td> \n",
       "        <td id=\"T_e80331f0_c96d_11e9_b1a4_7440bb9efc3erow2_col3\" class=\"data row2 col3\" >0.049</td> \n",
       "        <td id=\"T_e80331f0_c96d_11e9_b1a4_7440bb9efc3erow2_col4\" class=\"data row2 col4\" >-0.032</td> \n",
       "    </tr>    <tr> \n",
       "        <th id=\"T_e80331f0_c96d_11e9_b1a4_7440bb9efc3elevel0_row3\" class=\"row_heading level0 row3\" >Checking account</th> \n",
       "        <td id=\"T_e80331f0_c96d_11e9_b1a4_7440bb9efc3erow3_col0\" class=\"data row3 col0\" >-0.014</td> \n",
       "        <td id=\"T_e80331f0_c96d_11e9_b1a4_7440bb9efc3erow3_col1\" class=\"data row3 col1\" >-0.023</td> \n",
       "        <td id=\"T_e80331f0_c96d_11e9_b1a4_7440bb9efc3erow3_col2\" class=\"data row3 col2\" >0.049</td> \n",
       "        <td id=\"T_e80331f0_c96d_11e9_b1a4_7440bb9efc3erow3_col3\" class=\"data row3 col3\" >1</td> \n",
       "        <td id=\"T_e80331f0_c96d_11e9_b1a4_7440bb9efc3erow3_col4\" class=\"data row3 col4\" >0.0098</td> \n",
       "    </tr>    <tr> \n",
       "        <th id=\"T_e80331f0_c96d_11e9_b1a4_7440bb9efc3elevel0_row4\" class=\"row_heading level0 row4\" >Purpose</th> \n",
       "        <td id=\"T_e80331f0_c96d_11e9_b1a4_7440bb9efc3erow4_col0\" class=\"data row4 col0\" >-0.055</td> \n",
       "        <td id=\"T_e80331f0_c96d_11e9_b1a4_7440bb9efc3erow4_col1\" class=\"data row4 col1\" >0.0087</td> \n",
       "        <td id=\"T_e80331f0_c96d_11e9_b1a4_7440bb9efc3erow4_col2\" class=\"data row4 col2\" >-0.032</td> \n",
       "        <td id=\"T_e80331f0_c96d_11e9_b1a4_7440bb9efc3erow4_col3\" class=\"data row4 col3\" >0.0098</td> \n",
       "        <td id=\"T_e80331f0_c96d_11e9_b1a4_7440bb9efc3erow4_col4\" class=\"data row4 col4\" >1</td> \n",
       "    </tr></tbody> \n",
       "</table> "
      ],
      "text/plain": [
       "<pandas.io.formats.style.Styler at 0x20230e054e0>"
      ]
     },
     "execution_count": 144,
     "metadata": {},
     "output_type": "execute_result"
    }
   ],
   "source": [
    "data2[kategorikal].corr(method='spearman').style.background_gradient().set_precision(2) #untuk data kategorik"
   ]
  },
  {
   "cell_type": "code",
   "execution_count": 146,
   "metadata": {},
   "outputs": [
    {
     "data": {
      "text/html": [
       "<style  type=\"text/css\" >\n",
       "    #T_f8bf2364_c96d_11e9_a3ed_7440bb9efc3erow0_col0 {\n",
       "            background-color:  #023858;\n",
       "        }    #T_f8bf2364_c96d_11e9_a3ed_7440bb9efc3erow0_col1 {\n",
       "            background-color:  #fff7fb;\n",
       "        }    #T_f8bf2364_c96d_11e9_a3ed_7440bb9efc3erow0_col2 {\n",
       "            background-color:  #fff7fb;\n",
       "        }    #T_f8bf2364_c96d_11e9_a3ed_7440bb9efc3erow0_col3 {\n",
       "            background-color:  #fff7fb;\n",
       "        }    #T_f8bf2364_c96d_11e9_a3ed_7440bb9efc3erow1_col0 {\n",
       "            background-color:  #f8f1f8;\n",
       "        }    #T_f8bf2364_c96d_11e9_a3ed_7440bb9efc3erow1_col1 {\n",
       "            background-color:  #023858;\n",
       "        }    #T_f8bf2364_c96d_11e9_a3ed_7440bb9efc3erow1_col2 {\n",
       "            background-color:  #cdd0e5;\n",
       "        }    #T_f8bf2364_c96d_11e9_a3ed_7440bb9efc3erow1_col3 {\n",
       "            background-color:  #d2d3e7;\n",
       "        }    #T_f8bf2364_c96d_11e9_a3ed_7440bb9efc3erow2_col0 {\n",
       "            background-color:  #f5eef6;\n",
       "        }    #T_f8bf2364_c96d_11e9_a3ed_7440bb9efc3erow2_col1 {\n",
       "            background-color:  #c8cde4;\n",
       "        }    #T_f8bf2364_c96d_11e9_a3ed_7440bb9efc3erow2_col2 {\n",
       "            background-color:  #023858;\n",
       "        }    #T_f8bf2364_c96d_11e9_a3ed_7440bb9efc3erow2_col3 {\n",
       "            background-color:  #308cbe;\n",
       "        }    #T_f8bf2364_c96d_11e9_a3ed_7440bb9efc3erow3_col0 {\n",
       "            background-color:  #fff7fb;\n",
       "        }    #T_f8bf2364_c96d_11e9_a3ed_7440bb9efc3erow3_col1 {\n",
       "            background-color:  #dcdaeb;\n",
       "        }    #T_f8bf2364_c96d_11e9_a3ed_7440bb9efc3erow3_col2 {\n",
       "            background-color:  #3d93c2;\n",
       "        }    #T_f8bf2364_c96d_11e9_a3ed_7440bb9efc3erow3_col3 {\n",
       "            background-color:  #023858;\n",
       "        }</style>  \n",
       "<table id=\"T_f8bf2364_c96d_11e9_a3ed_7440bb9efc3e\" > \n",
       "<thead>    <tr> \n",
       "        <th class=\"blank level0\" ></th> \n",
       "        <th class=\"col_heading level0 col0\" >Age</th> \n",
       "        <th class=\"col_heading level0 col1\" >Job</th> \n",
       "        <th class=\"col_heading level0 col2\" >Credit amount</th> \n",
       "        <th class=\"col_heading level0 col3\" >Duration</th> \n",
       "    </tr></thead> \n",
       "<tbody>    <tr> \n",
       "        <th id=\"T_f8bf2364_c96d_11e9_a3ed_7440bb9efc3elevel0_row0\" class=\"row_heading level0 row0\" >Age</th> \n",
       "        <td id=\"T_f8bf2364_c96d_11e9_a3ed_7440bb9efc3erow0_col0\" class=\"data row0 col0\" >1</td> \n",
       "        <td id=\"T_f8bf2364_c96d_11e9_a3ed_7440bb9efc3erow0_col1\" class=\"data row0 col1\" >0.016</td> \n",
       "        <td id=\"T_f8bf2364_c96d_11e9_a3ed_7440bb9efc3erow0_col2\" class=\"data row0 col2\" >0.033</td> \n",
       "        <td id=\"T_f8bf2364_c96d_11e9_a3ed_7440bb9efc3erow0_col3\" class=\"data row0 col3\" >-0.036</td> \n",
       "    </tr>    <tr> \n",
       "        <th id=\"T_f8bf2364_c96d_11e9_a3ed_7440bb9efc3elevel0_row1\" class=\"row_heading level0 row1\" >Job</th> \n",
       "        <td id=\"T_f8bf2364_c96d_11e9_a3ed_7440bb9efc3erow1_col0\" class=\"data row1 col0\" >0.016</td> \n",
       "        <td id=\"T_f8bf2364_c96d_11e9_a3ed_7440bb9efc3erow1_col1\" class=\"data row1 col1\" >1</td> \n",
       "        <td id=\"T_f8bf2364_c96d_11e9_a3ed_7440bb9efc3erow1_col2\" class=\"data row1 col2\" >0.29</td> \n",
       "        <td id=\"T_f8bf2364_c96d_11e9_a3ed_7440bb9efc3erow1_col3\" class=\"data row1 col3\" >0.21</td> \n",
       "    </tr>    <tr> \n",
       "        <th id=\"T_f8bf2364_c96d_11e9_a3ed_7440bb9efc3elevel0_row2\" class=\"row_heading level0 row2\" >Credit amount</th> \n",
       "        <td id=\"T_f8bf2364_c96d_11e9_a3ed_7440bb9efc3erow2_col0\" class=\"data row2 col0\" >0.033</td> \n",
       "        <td id=\"T_f8bf2364_c96d_11e9_a3ed_7440bb9efc3erow2_col1\" class=\"data row2 col1\" >0.29</td> \n",
       "        <td id=\"T_f8bf2364_c96d_11e9_a3ed_7440bb9efc3erow2_col2\" class=\"data row2 col2\" >1</td> \n",
       "        <td id=\"T_f8bf2364_c96d_11e9_a3ed_7440bb9efc3erow2_col3\" class=\"data row2 col3\" >0.62</td> \n",
       "    </tr>    <tr> \n",
       "        <th id=\"T_f8bf2364_c96d_11e9_a3ed_7440bb9efc3elevel0_row3\" class=\"row_heading level0 row3\" >Duration</th> \n",
       "        <td id=\"T_f8bf2364_c96d_11e9_a3ed_7440bb9efc3erow3_col0\" class=\"data row3 col0\" >-0.036</td> \n",
       "        <td id=\"T_f8bf2364_c96d_11e9_a3ed_7440bb9efc3erow3_col1\" class=\"data row3 col1\" >0.21</td> \n",
       "        <td id=\"T_f8bf2364_c96d_11e9_a3ed_7440bb9efc3erow3_col2\" class=\"data row3 col2\" >0.62</td> \n",
       "        <td id=\"T_f8bf2364_c96d_11e9_a3ed_7440bb9efc3erow3_col3\" class=\"data row3 col3\" >1</td> \n",
       "    </tr></tbody> \n",
       "</table> "
      ],
      "text/plain": [
       "<pandas.io.formats.style.Styler at 0x20230e4d198>"
      ]
     },
     "execution_count": 146,
     "metadata": {},
     "output_type": "execute_result"
    }
   ],
   "source": [
    "data.corr(method='pearson').style.background_gradient().set_precision(2) #untuk data numerikal"
   ]
  },
  {
   "cell_type": "code",
   "execution_count": 148,
   "metadata": {},
   "outputs": [
    {
     "data": {
      "text/html": [
       "<style  type=\"text/css\" >\n",
       "    #T_054d2a92_c96e_11e9_8f76_7440bb9efc3erow0_col0 {\n",
       "            background-color:  #023858;\n",
       "        }    #T_054d2a92_c96e_11e9_8f76_7440bb9efc3erow0_col1 {\n",
       "            background-color:  #bbc7e0;\n",
       "        }    #T_054d2a92_c96e_11e9_8f76_7440bb9efc3erow0_col2 {\n",
       "            background-color:  #eee9f3;\n",
       "        }    #T_054d2a92_c96e_11e9_8f76_7440bb9efc3erow0_col3 {\n",
       "            background-color:  #fff7fb;\n",
       "        }    #T_054d2a92_c96e_11e9_8f76_7440bb9efc3erow0_col4 {\n",
       "            background-color:  #f2ecf5;\n",
       "        }    #T_054d2a92_c96e_11e9_8f76_7440bb9efc3erow0_col5 {\n",
       "            background-color:  #fdf5fa;\n",
       "        }    #T_054d2a92_c96e_11e9_8f76_7440bb9efc3erow0_col6 {\n",
       "            background-color:  #e5e1ef;\n",
       "        }    #T_054d2a92_c96e_11e9_8f76_7440bb9efc3erow0_col7 {\n",
       "            background-color:  #f0eaf4;\n",
       "        }    #T_054d2a92_c96e_11e9_8f76_7440bb9efc3erow0_col8 {\n",
       "            background-color:  #f5eef6;\n",
       "        }    #T_054d2a92_c96e_11e9_8f76_7440bb9efc3erow1_col0 {\n",
       "            background-color:  #acc0dd;\n",
       "        }    #T_054d2a92_c96e_11e9_8f76_7440bb9efc3erow1_col1 {\n",
       "            background-color:  #023858;\n",
       "        }    #T_054d2a92_c96e_11e9_8f76_7440bb9efc3erow1_col2 {\n",
       "            background-color:  #e4e1ef;\n",
       "        }    #T_054d2a92_c96e_11e9_8f76_7440bb9efc3erow1_col3 {\n",
       "            background-color:  #f5eff6;\n",
       "        }    #T_054d2a92_c96e_11e9_8f76_7440bb9efc3erow1_col4 {\n",
       "            background-color:  #f6eff7;\n",
       "        }    #T_054d2a92_c96e_11e9_8f76_7440bb9efc3erow1_col5 {\n",
       "            background-color:  #fbf3f9;\n",
       "        }    #T_054d2a92_c96e_11e9_8f76_7440bb9efc3erow1_col6 {\n",
       "            background-color:  #d9d8ea;\n",
       "        }    #T_054d2a92_c96e_11e9_8f76_7440bb9efc3erow1_col7 {\n",
       "            background-color:  #dad9ea;\n",
       "        }    #T_054d2a92_c96e_11e9_8f76_7440bb9efc3erow1_col8 {\n",
       "            background-color:  #f4edf6;\n",
       "        }    #T_054d2a92_c96e_11e9_8f76_7440bb9efc3erow2_col0 {\n",
       "            background-color:  #d2d2e7;\n",
       "        }    #T_054d2a92_c96e_11e9_8f76_7440bb9efc3erow2_col1 {\n",
       "            background-color:  #d3d4e7;\n",
       "        }    #T_054d2a92_c96e_11e9_8f76_7440bb9efc3erow2_col2 {\n",
       "            background-color:  #023858;\n",
       "        }    #T_054d2a92_c96e_11e9_8f76_7440bb9efc3erow2_col3 {\n",
       "            background-color:  #e7e3f0;\n",
       "        }    #T_054d2a92_c96e_11e9_8f76_7440bb9efc3erow2_col4 {\n",
       "            background-color:  #f9f2f8;\n",
       "        }    #T_054d2a92_c96e_11e9_8f76_7440bb9efc3erow2_col5 {\n",
       "            background-color:  #fff7fb;\n",
       "        }    #T_054d2a92_c96e_11e9_8f76_7440bb9efc3erow2_col6 {\n",
       "            background-color:  #a4bcda;\n",
       "        }    #T_054d2a92_c96e_11e9_8f76_7440bb9efc3erow2_col7 {\n",
       "            background-color:  #b9c6e0;\n",
       "        }    #T_054d2a92_c96e_11e9_8f76_7440bb9efc3erow2_col8 {\n",
       "            background-color:  #eee9f3;\n",
       "        }    #T_054d2a92_c96e_11e9_8f76_7440bb9efc3erow3_col0 {\n",
       "            background-color:  #fff7fb;\n",
       "        }    #T_054d2a92_c96e_11e9_8f76_7440bb9efc3erow3_col1 {\n",
       "            background-color:  #fff7fb;\n",
       "        }    #T_054d2a92_c96e_11e9_8f76_7440bb9efc3erow3_col2 {\n",
       "            background-color:  #fff7fb;\n",
       "        }    #T_054d2a92_c96e_11e9_8f76_7440bb9efc3erow3_col3 {\n",
       "            background-color:  #023858;\n",
       "        }    #T_054d2a92_c96e_11e9_8f76_7440bb9efc3erow3_col4 {\n",
       "            background-color:  #eee9f3;\n",
       "        }    #T_054d2a92_c96e_11e9_8f76_7440bb9efc3erow3_col5 {\n",
       "            background-color:  #fdf5fa;\n",
       "        }    #T_054d2a92_c96e_11e9_8f76_7440bb9efc3erow3_col6 {\n",
       "            background-color:  #fdf5fa;\n",
       "        }    #T_054d2a92_c96e_11e9_8f76_7440bb9efc3erow3_col7 {\n",
       "            background-color:  #fff7fb;\n",
       "        }    #T_054d2a92_c96e_11e9_8f76_7440bb9efc3erow3_col8 {\n",
       "            background-color:  #e7e3f0;\n",
       "        }    #T_054d2a92_c96e_11e9_8f76_7440bb9efc3erow4_col0 {\n",
       "            background-color:  #d2d2e7;\n",
       "        }    #T_054d2a92_c96e_11e9_8f76_7440bb9efc3erow4_col1 {\n",
       "            background-color:  #e2dfee;\n",
       "        }    #T_054d2a92_c96e_11e9_8f76_7440bb9efc3erow4_col2 {\n",
       "            background-color:  #f5eff6;\n",
       "        }    #T_054d2a92_c96e_11e9_8f76_7440bb9efc3erow4_col3 {\n",
       "            background-color:  #cccfe5;\n",
       "        }    #T_054d2a92_c96e_11e9_8f76_7440bb9efc3erow4_col4 {\n",
       "            background-color:  #023858;\n",
       "        }    #T_054d2a92_c96e_11e9_8f76_7440bb9efc3erow4_col5 {\n",
       "            background-color:  #f7f0f7;\n",
       "        }    #T_054d2a92_c96e_11e9_8f76_7440bb9efc3erow4_col6 {\n",
       "            background-color:  #f5eff6;\n",
       "        }    #T_054d2a92_c96e_11e9_8f76_7440bb9efc3erow4_col7 {\n",
       "            background-color:  #f0eaf4;\n",
       "        }    #T_054d2a92_c96e_11e9_8f76_7440bb9efc3erow4_col8 {\n",
       "            background-color:  #eee9f3;\n",
       "        }    #T_054d2a92_c96e_11e9_8f76_7440bb9efc3erow5_col0 {\n",
       "            background-color:  #d9d8ea;\n",
       "        }    #T_054d2a92_c96e_11e9_8f76_7440bb9efc3erow5_col1 {\n",
       "            background-color:  #e2dfee;\n",
       "        }    #T_054d2a92_c96e_11e9_8f76_7440bb9efc3erow5_col2 {\n",
       "            background-color:  #f7f0f7;\n",
       "        }    #T_054d2a92_c96e_11e9_8f76_7440bb9efc3erow5_col3 {\n",
       "            background-color:  #d9d8ea;\n",
       "        }    #T_054d2a92_c96e_11e9_8f76_7440bb9efc3erow5_col4 {\n",
       "            background-color:  #f2ecf5;\n",
       "        }    #T_054d2a92_c96e_11e9_8f76_7440bb9efc3erow5_col5 {\n",
       "            background-color:  #023858;\n",
       "        }    #T_054d2a92_c96e_11e9_8f76_7440bb9efc3erow5_col6 {\n",
       "            background-color:  #e9e5f1;\n",
       "        }    #T_054d2a92_c96e_11e9_8f76_7440bb9efc3erow5_col7 {\n",
       "            background-color:  #e9e5f1;\n",
       "        }    #T_054d2a92_c96e_11e9_8f76_7440bb9efc3erow5_col8 {\n",
       "            background-color:  #e7e3f0;\n",
       "        }    #T_054d2a92_c96e_11e9_8f76_7440bb9efc3erow6_col0 {\n",
       "            background-color:  #ced0e6;\n",
       "        }    #T_054d2a92_c96e_11e9_8f76_7440bb9efc3erow6_col1 {\n",
       "            background-color:  #ced0e6;\n",
       "        }    #T_054d2a92_c96e_11e9_8f76_7440bb9efc3erow6_col2 {\n",
       "            background-color:  #adc1dd;\n",
       "        }    #T_054d2a92_c96e_11e9_8f76_7440bb9efc3erow6_col3 {\n",
       "            background-color:  #ece7f2;\n",
       "        }    #T_054d2a92_c96e_11e9_8f76_7440bb9efc3erow6_col4 {\n",
       "            background-color:  #fff7fb;\n",
       "        }    #T_054d2a92_c96e_11e9_8f76_7440bb9efc3erow6_col5 {\n",
       "            background-color:  #f8f1f8;\n",
       "        }    #T_054d2a92_c96e_11e9_8f76_7440bb9efc3erow6_col6 {\n",
       "            background-color:  #023858;\n",
       "        }    #T_054d2a92_c96e_11e9_8f76_7440bb9efc3erow6_col7 {\n",
       "            background-color:  #2182b9;\n",
       "        }    #T_054d2a92_c96e_11e9_8f76_7440bb9efc3erow6_col8 {\n",
       "            background-color:  #fff7fb;\n",
       "        }    #T_054d2a92_c96e_11e9_8f76_7440bb9efc3erow7_col0 {\n",
       "            background-color:  #dad9ea;\n",
       "        }    #T_054d2a92_c96e_11e9_8f76_7440bb9efc3erow7_col1 {\n",
       "            background-color:  #d1d2e6;\n",
       "        }    #T_054d2a92_c96e_11e9_8f76_7440bb9efc3erow7_col2 {\n",
       "            background-color:  #c4cbe3;\n",
       "        }    #T_054d2a92_c96e_11e9_8f76_7440bb9efc3erow7_col3 {\n",
       "            background-color:  #eee9f3;\n",
       "        }    #T_054d2a92_c96e_11e9_8f76_7440bb9efc3erow7_col4 {\n",
       "            background-color:  #faf3f9;\n",
       "        }    #T_054d2a92_c96e_11e9_8f76_7440bb9efc3erow7_col5 {\n",
       "            background-color:  #f8f1f8;\n",
       "        }    #T_054d2a92_c96e_11e9_8f76_7440bb9efc3erow7_col6 {\n",
       "            background-color:  #2383ba;\n",
       "        }    #T_054d2a92_c96e_11e9_8f76_7440bb9efc3erow7_col7 {\n",
       "            background-color:  #023858;\n",
       "        }    #T_054d2a92_c96e_11e9_8f76_7440bb9efc3erow7_col8 {\n",
       "            background-color:  #f6eff7;\n",
       "        }    #T_054d2a92_c96e_11e9_8f76_7440bb9efc3erow8_col0 {\n",
       "            background-color:  #e1dfed;\n",
       "        }    #T_054d2a92_c96e_11e9_8f76_7440bb9efc3erow8_col1 {\n",
       "            background-color:  #ece7f2;\n",
       "        }    #T_054d2a92_c96e_11e9_8f76_7440bb9efc3erow8_col2 {\n",
       "            background-color:  #f4eef6;\n",
       "        }    #T_054d2a92_c96e_11e9_8f76_7440bb9efc3erow8_col3 {\n",
       "            background-color:  #d1d2e6;\n",
       "        }    #T_054d2a92_c96e_11e9_8f76_7440bb9efc3erow8_col4 {\n",
       "            background-color:  #f8f1f8;\n",
       "        }    #T_054d2a92_c96e_11e9_8f76_7440bb9efc3erow8_col5 {\n",
       "            background-color:  #f6eff7;\n",
       "        }    #T_054d2a92_c96e_11e9_8f76_7440bb9efc3erow8_col6 {\n",
       "            background-color:  #fff7fb;\n",
       "        }    #T_054d2a92_c96e_11e9_8f76_7440bb9efc3erow8_col7 {\n",
       "            background-color:  #f5eff6;\n",
       "        }    #T_054d2a92_c96e_11e9_8f76_7440bb9efc3erow8_col8 {\n",
       "            background-color:  #023858;\n",
       "        }</style>  \n",
       "<table id=\"T_054d2a92_c96e_11e9_8f76_7440bb9efc3e\" > \n",
       "<thead>    <tr> \n",
       "        <th class=\"blank level0\" ></th> \n",
       "        <th class=\"col_heading level0 col0\" >Age</th> \n",
       "        <th class=\"col_heading level0 col1\" >Sex</th> \n",
       "        <th class=\"col_heading level0 col2\" >Job</th> \n",
       "        <th class=\"col_heading level0 col3\" >Housing</th> \n",
       "        <th class=\"col_heading level0 col4\" >Saving accounts</th> \n",
       "        <th class=\"col_heading level0 col5\" >Checking account</th> \n",
       "        <th class=\"col_heading level0 col6\" >Credit amount</th> \n",
       "        <th class=\"col_heading level0 col7\" >Duration</th> \n",
       "        <th class=\"col_heading level0 col8\" >Purpose</th> \n",
       "    </tr></thead> \n",
       "<tbody>    <tr> \n",
       "        <th id=\"T_054d2a92_c96e_11e9_8f76_7440bb9efc3elevel0_row0\" class=\"row_heading level0 row0\" >Age</th> \n",
       "        <td id=\"T_054d2a92_c96e_11e9_8f76_7440bb9efc3erow0_col0\" class=\"data row0 col0\" >1</td> \n",
       "        <td id=\"T_054d2a92_c96e_11e9_8f76_7440bb9efc3erow0_col1\" class=\"data row0 col1\" >0.16</td> \n",
       "        <td id=\"T_054d2a92_c96e_11e9_8f76_7440bb9efc3erow0_col2\" class=\"data row0 col2\" >0.016</td> \n",
       "        <td id=\"T_054d2a92_c96e_11e9_8f76_7440bb9efc3erow0_col3\" class=\"data row0 col3\" >-0.3</td> \n",
       "        <td id=\"T_054d2a92_c96e_11e9_8f76_7440bb9efc3erow0_col4\" class=\"data row0 col4\" >0.016</td> \n",
       "        <td id=\"T_054d2a92_c96e_11e9_8f76_7440bb9efc3erow0_col5\" class=\"data row0 col5\" >-0.027</td> \n",
       "        <td id=\"T_054d2a92_c96e_11e9_8f76_7440bb9efc3erow0_col6\" class=\"data row0 col6\" >0.033</td> \n",
       "        <td id=\"T_054d2a92_c96e_11e9_8f76_7440bb9efc3erow0_col7\" class=\"data row0 col7\" >-0.036</td> \n",
       "        <td id=\"T_054d2a92_c96e_11e9_8f76_7440bb9efc3erow0_col8\" class=\"data row0 col8\" >-0.074</td> \n",
       "    </tr>    <tr> \n",
       "        <th id=\"T_054d2a92_c96e_11e9_8f76_7440bb9efc3elevel0_row1\" class=\"row_heading level0 row1\" >Sex</th> \n",
       "        <td id=\"T_054d2a92_c96e_11e9_8f76_7440bb9efc3erow1_col0\" class=\"data row1 col0\" >0.16</td> \n",
       "        <td id=\"T_054d2a92_c96e_11e9_8f76_7440bb9efc3erow1_col1\" class=\"data row1 col1\" >1</td> \n",
       "        <td id=\"T_054d2a92_c96e_11e9_8f76_7440bb9efc3erow1_col2\" class=\"data row1 col2\" >0.07</td> \n",
       "        <td id=\"T_054d2a92_c96e_11e9_8f76_7440bb9efc3erow1_col3\" class=\"data row1 col3\" >-0.22</td> \n",
       "        <td id=\"T_054d2a92_c96e_11e9_8f76_7440bb9efc3erow1_col4\" class=\"data row1 col4\" >-0.014</td> \n",
       "        <td id=\"T_054d2a92_c96e_11e9_8f76_7440bb9efc3erow1_col5\" class=\"data row1 col5\" >-0.013</td> \n",
       "        <td id=\"T_054d2a92_c96e_11e9_8f76_7440bb9efc3erow1_col6\" class=\"data row1 col6\" >0.093</td> \n",
       "        <td id=\"T_054d2a92_c96e_11e9_8f76_7440bb9efc3erow1_col7\" class=\"data row1 col7\" >0.081</td> \n",
       "        <td id=\"T_054d2a92_c96e_11e9_8f76_7440bb9efc3erow1_col8\" class=\"data row1 col8\" >-0.063</td> \n",
       "    </tr>    <tr> \n",
       "        <th id=\"T_054d2a92_c96e_11e9_8f76_7440bb9efc3elevel0_row2\" class=\"row_heading level0 row2\" >Job</th> \n",
       "        <td id=\"T_054d2a92_c96e_11e9_8f76_7440bb9efc3erow2_col0\" class=\"data row2 col0\" >0.016</td> \n",
       "        <td id=\"T_054d2a92_c96e_11e9_8f76_7440bb9efc3erow2_col1\" class=\"data row2 col1\" >0.07</td> \n",
       "        <td id=\"T_054d2a92_c96e_11e9_8f76_7440bb9efc3erow2_col2\" class=\"data row2 col2\" >1</td> \n",
       "        <td id=\"T_054d2a92_c96e_11e9_8f76_7440bb9efc3erow2_col3\" class=\"data row2 col3\" >-0.11</td> \n",
       "        <td id=\"T_054d2a92_c96e_11e9_8f76_7440bb9efc3erow2_col4\" class=\"data row2 col4\" >-0.035</td> \n",
       "        <td id=\"T_054d2a92_c96e_11e9_8f76_7440bb9efc3erow2_col5\" class=\"data row2 col5\" >-0.043</td> \n",
       "        <td id=\"T_054d2a92_c96e_11e9_8f76_7440bb9efc3erow2_col6\" class=\"data row2 col6\" >0.29</td> \n",
       "        <td id=\"T_054d2a92_c96e_11e9_8f76_7440bb9efc3erow2_col7\" class=\"data row2 col7\" >0.21</td> \n",
       "        <td id=\"T_054d2a92_c96e_11e9_8f76_7440bb9efc3erow2_col8\" class=\"data row2 col8\" >-0.025</td> \n",
       "    </tr>    <tr> \n",
       "        <th id=\"T_054d2a92_c96e_11e9_8f76_7440bb9efc3elevel0_row3\" class=\"row_heading level0 row3\" >Housing</th> \n",
       "        <td id=\"T_054d2a92_c96e_11e9_8f76_7440bb9efc3erow3_col0\" class=\"data row3 col0\" >-0.3</td> \n",
       "        <td id=\"T_054d2a92_c96e_11e9_8f76_7440bb9efc3erow3_col1\" class=\"data row3 col1\" >-0.22</td> \n",
       "        <td id=\"T_054d2a92_c96e_11e9_8f76_7440bb9efc3erow3_col2\" class=\"data row3 col2\" >-0.11</td> \n",
       "        <td id=\"T_054d2a92_c96e_11e9_8f76_7440bb9efc3erow3_col3\" class=\"data row3 col3\" >1</td> \n",
       "        <td id=\"T_054d2a92_c96e_11e9_8f76_7440bb9efc3erow3_col4\" class=\"data row3 col4\" >0.043</td> \n",
       "        <td id=\"T_054d2a92_c96e_11e9_8f76_7440bb9efc3erow3_col5\" class=\"data row3 col5\" >-0.028</td> \n",
       "        <td id=\"T_054d2a92_c96e_11e9_8f76_7440bb9efc3erow3_col6\" class=\"data row3 col6\" >-0.14</td> \n",
       "        <td id=\"T_054d2a92_c96e_11e9_8f76_7440bb9efc3erow3_col7\" class=\"data row3 col7\" >-0.16</td> \n",
       "        <td id=\"T_054d2a92_c96e_11e9_8f76_7440bb9efc3erow3_col8\" class=\"data row3 col8\" >0.021</td> \n",
       "    </tr>    <tr> \n",
       "        <th id=\"T_054d2a92_c96e_11e9_8f76_7440bb9efc3elevel0_row4\" class=\"row_heading level0 row4\" >Saving accounts</th> \n",
       "        <td id=\"T_054d2a92_c96e_11e9_8f76_7440bb9efc3erow4_col0\" class=\"data row4 col0\" >0.016</td> \n",
       "        <td id=\"T_054d2a92_c96e_11e9_8f76_7440bb9efc3erow4_col1\" class=\"data row4 col1\" >-0.014</td> \n",
       "        <td id=\"T_054d2a92_c96e_11e9_8f76_7440bb9efc3erow4_col2\" class=\"data row4 col2\" >-0.035</td> \n",
       "        <td id=\"T_054d2a92_c96e_11e9_8f76_7440bb9efc3erow4_col3\" class=\"data row4 col3\" >0.043</td> \n",
       "        <td id=\"T_054d2a92_c96e_11e9_8f76_7440bb9efc3erow4_col4\" class=\"data row4 col4\" >1</td> \n",
       "        <td id=\"T_054d2a92_c96e_11e9_8f76_7440bb9efc3erow4_col5\" class=\"data row4 col5\" >0.016</td> \n",
       "        <td id=\"T_054d2a92_c96e_11e9_8f76_7440bb9efc3erow4_col6\" class=\"data row4 col6\" >-0.078</td> \n",
       "        <td id=\"T_054d2a92_c96e_11e9_8f76_7440bb9efc3erow4_col7\" class=\"data row4 col7\" >-0.043</td> \n",
       "        <td id=\"T_054d2a92_c96e_11e9_8f76_7440bb9efc3erow4_col8\" class=\"data row4 col8\" >-0.025</td> \n",
       "    </tr>    <tr> \n",
       "        <th id=\"T_054d2a92_c96e_11e9_8f76_7440bb9efc3elevel0_row5\" class=\"row_heading level0 row5\" >Checking account</th> \n",
       "        <td id=\"T_054d2a92_c96e_11e9_8f76_7440bb9efc3erow5_col0\" class=\"data row5 col0\" >-0.027</td> \n",
       "        <td id=\"T_054d2a92_c96e_11e9_8f76_7440bb9efc3erow5_col1\" class=\"data row5 col1\" >-0.013</td> \n",
       "        <td id=\"T_054d2a92_c96e_11e9_8f76_7440bb9efc3erow5_col2\" class=\"data row5 col2\" >-0.043</td> \n",
       "        <td id=\"T_054d2a92_c96e_11e9_8f76_7440bb9efc3erow5_col3\" class=\"data row5 col3\" >-0.028</td> \n",
       "        <td id=\"T_054d2a92_c96e_11e9_8f76_7440bb9efc3erow5_col4\" class=\"data row5 col4\" >0.016</td> \n",
       "        <td id=\"T_054d2a92_c96e_11e9_8f76_7440bb9efc3erow5_col5\" class=\"data row5 col5\" >1</td> \n",
       "        <td id=\"T_054d2a92_c96e_11e9_8f76_7440bb9efc3erow5_col6\" class=\"data row5 col6\" >0.007</td> \n",
       "        <td id=\"T_054d2a92_c96e_11e9_8f76_7440bb9efc3erow5_col7\" class=\"data row5 col7\" >0.0042</td> \n",
       "        <td id=\"T_054d2a92_c96e_11e9_8f76_7440bb9efc3erow5_col8\" class=\"data row5 col8\" >0.019</td> \n",
       "    </tr>    <tr> \n",
       "        <th id=\"T_054d2a92_c96e_11e9_8f76_7440bb9efc3elevel0_row6\" class=\"row_heading level0 row6\" >Credit amount</th> \n",
       "        <td id=\"T_054d2a92_c96e_11e9_8f76_7440bb9efc3erow6_col0\" class=\"data row6 col0\" >0.033</td> \n",
       "        <td id=\"T_054d2a92_c96e_11e9_8f76_7440bb9efc3erow6_col1\" class=\"data row6 col1\" >0.093</td> \n",
       "        <td id=\"T_054d2a92_c96e_11e9_8f76_7440bb9efc3erow6_col2\" class=\"data row6 col2\" >0.29</td> \n",
       "        <td id=\"T_054d2a92_c96e_11e9_8f76_7440bb9efc3erow6_col3\" class=\"data row6 col3\" >-0.14</td> \n",
       "        <td id=\"T_054d2a92_c96e_11e9_8f76_7440bb9efc3erow6_col4\" class=\"data row6 col4\" >-0.078</td> \n",
       "        <td id=\"T_054d2a92_c96e_11e9_8f76_7440bb9efc3erow6_col5\" class=\"data row6 col5\" >0.007</td> \n",
       "        <td id=\"T_054d2a92_c96e_11e9_8f76_7440bb9efc3erow6_col6\" class=\"data row6 col6\" >1</td> \n",
       "        <td id=\"T_054d2a92_c96e_11e9_8f76_7440bb9efc3erow6_col7\" class=\"data row6 col7\" >0.62</td> \n",
       "        <td id=\"T_054d2a92_c96e_11e9_8f76_7440bb9efc3erow6_col8\" class=\"data row6 col8\" >-0.15</td> \n",
       "    </tr>    <tr> \n",
       "        <th id=\"T_054d2a92_c96e_11e9_8f76_7440bb9efc3elevel0_row7\" class=\"row_heading level0 row7\" >Duration</th> \n",
       "        <td id=\"T_054d2a92_c96e_11e9_8f76_7440bb9efc3erow7_col0\" class=\"data row7 col0\" >-0.036</td> \n",
       "        <td id=\"T_054d2a92_c96e_11e9_8f76_7440bb9efc3erow7_col1\" class=\"data row7 col1\" >0.081</td> \n",
       "        <td id=\"T_054d2a92_c96e_11e9_8f76_7440bb9efc3erow7_col2\" class=\"data row7 col2\" >0.21</td> \n",
       "        <td id=\"T_054d2a92_c96e_11e9_8f76_7440bb9efc3erow7_col3\" class=\"data row7 col3\" >-0.16</td> \n",
       "        <td id=\"T_054d2a92_c96e_11e9_8f76_7440bb9efc3erow7_col4\" class=\"data row7 col4\" >-0.043</td> \n",
       "        <td id=\"T_054d2a92_c96e_11e9_8f76_7440bb9efc3erow7_col5\" class=\"data row7 col5\" >0.0042</td> \n",
       "        <td id=\"T_054d2a92_c96e_11e9_8f76_7440bb9efc3erow7_col6\" class=\"data row7 col6\" >0.62</td> \n",
       "        <td id=\"T_054d2a92_c96e_11e9_8f76_7440bb9efc3erow7_col7\" class=\"data row7 col7\" >1</td> \n",
       "        <td id=\"T_054d2a92_c96e_11e9_8f76_7440bb9efc3erow7_col8\" class=\"data row7 col8\" >-0.083</td> \n",
       "    </tr>    <tr> \n",
       "        <th id=\"T_054d2a92_c96e_11e9_8f76_7440bb9efc3elevel0_row8\" class=\"row_heading level0 row8\" >Purpose</th> \n",
       "        <td id=\"T_054d2a92_c96e_11e9_8f76_7440bb9efc3erow8_col0\" class=\"data row8 col0\" >-0.074</td> \n",
       "        <td id=\"T_054d2a92_c96e_11e9_8f76_7440bb9efc3erow8_col1\" class=\"data row8 col1\" >-0.063</td> \n",
       "        <td id=\"T_054d2a92_c96e_11e9_8f76_7440bb9efc3erow8_col2\" class=\"data row8 col2\" >-0.025</td> \n",
       "        <td id=\"T_054d2a92_c96e_11e9_8f76_7440bb9efc3erow8_col3\" class=\"data row8 col3\" >0.021</td> \n",
       "        <td id=\"T_054d2a92_c96e_11e9_8f76_7440bb9efc3erow8_col4\" class=\"data row8 col4\" >-0.025</td> \n",
       "        <td id=\"T_054d2a92_c96e_11e9_8f76_7440bb9efc3erow8_col5\" class=\"data row8 col5\" >0.019</td> \n",
       "        <td id=\"T_054d2a92_c96e_11e9_8f76_7440bb9efc3erow8_col6\" class=\"data row8 col6\" >-0.15</td> \n",
       "        <td id=\"T_054d2a92_c96e_11e9_8f76_7440bb9efc3erow8_col7\" class=\"data row8 col7\" >-0.083</td> \n",
       "        <td id=\"T_054d2a92_c96e_11e9_8f76_7440bb9efc3erow8_col8\" class=\"data row8 col8\" >1</td> \n",
       "    </tr></tbody> \n",
       "</table> "
      ],
      "text/plain": [
       "<pandas.io.formats.style.Styler at 0x2022dae62e8>"
      ]
     },
     "execution_count": 148,
     "metadata": {},
     "output_type": "execute_result"
    }
   ],
   "source": [
    "data2.corr(method='pearson').style.background_gradient().set_precision(2) #untuk semua data"
   ]
  },
  {
   "cell_type": "code",
   "execution_count": 166,
   "metadata": {},
   "outputs": [
    {
     "data": {
      "text/plain": [
       "<matplotlib.axes._subplots.AxesSubplot at 0x20233396438>"
      ]
     },
     "execution_count": 166,
     "metadata": {},
     "output_type": "execute_result"
    },
    {
     "data": {
      "image/png": "[encoded data removed]",
      "text/plain": [
       "<matplotlib.figure.Figure at 0x202333c0c88>"
      ]
     },
     "metadata": {},
     "output_type": "display_data"
    }
   ],
   "source": [
    "plt.figure(figsize=(10,8))\n",
    "sns.heatmap(data2.corr(method='pearson'))"
   ]
  },
  {
   "cell_type": "markdown",
   "metadata": {},
   "source": [
    "### Hubungan antara Job dengan Credit Amount, Job dengan Duration"
   ]
  },
  {
   "cell_type": "code",
   "execution_count": 162,
   "metadata": {},
   "outputs": [
    {
     "data": {
      "text/plain": [
       "<matplotlib.axes._subplots.AxesSubplot at 0x20232053f98>"
      ]
     },
     "execution_count": 162,
     "metadata": {},
     "output_type": "execute_result"
    },
    {
     "data": {
      "image/png": "[encoded data removed]",
      "text/plain": [
       "<matplotlib.figure.Figure at 0x2023202d780>"
      ]
     },
     "metadata": {},
     "output_type": "display_data"
    }
   ],
   "source": [
    "i = plt.figure(figsize=(20,6))\n",
    "\n",
    "i.add_subplot(1,2,1)\n",
    "sns.barplot(data['Job'], data['Duration'])\n",
    "\n",
    "i.add_subplot(1,2,2)\n",
    "sns.barplot(data['Job'], data['Credit amount'], color='yellow')"
   ]
  },
  {
   "cell_type": "markdown",
   "metadata": {},
   "source": [
    "1. ternyata ada korelasi positif tetapi tidak terlalu kuat antara job dengan durasi pinjam dan job dengan jumlah kredit yang dipinjam.\n",
    "2. jadi dengan bertambahnya nilai job atau semakin skillfull orang maka dia berani untuk meminjam kredit lebih besar"
   ]
  },
  {
   "cell_type": "markdown",
   "metadata": {},
   "source": [
    "### Hubungan antara Duration dengan Credit Amount, Purpose dengan Credit amount, Housing dengan credit amount"
   ]
  },
  {
   "cell_type": "code",
   "execution_count": 159,
   "metadata": {},
   "outputs": [
    {
     "data": {
      "image/png": "[encoded data removed]",
      "text/plain": [
       "<matplotlib.figure.Figure at 0x202320d4160>"
      ]
     },
     "metadata": {},
     "output_type": "display_data"
    }
   ],
   "source": [
    "j = plt.figure(figsize=(20,6))\n",
    "\n",
    "j.add_subplot(2,2,1)\n",
    "sns.regplot(data['Duration'], data['Credit amount'])\n",
    "\n",
    "j.add_subplot(2,2,2)\n",
    "plot = sns.barplot(data['Purpose'], data['Credit amount'])\n",
    "plt.setp(plot.get_xticklabels(), rotation=45)\n",
    "\n",
    "j.add_subplot(2,2,3)\n",
    "sns.barplot(data['Housing'], data['Credit amount'])\n",
    "\n",
    "plt.show()\n",
    "f.tight_layout()"
   ]
  },
  {
   "cell_type": "markdown",
   "metadata": {},
   "source": [
    "1. untuk korelasi antara duration dengan credit amount adalah positif yang kuat. dimana dengan bertambahnya durasi pengembalian kredit maka orang akan lebih berani untuk meminjam kredit yang lebih besar\n",
    "2. ternyata walaupun banyak orang yang meminjam kredit untuk vacation, namun rata-rata jumlah kredit untuk vacation adalah yang terbesar. jadi ada kemungkinan bahwa per orang berani meminjam lebih besar kredit untuk vacation\n",
    "3. untuk yang memiliki rumah, semakin dia memiliki rumah maka semakin kecil pula rata-rata uang yang mereka pinjam"
   ]
  },
  {
   "cell_type": "markdown",
   "metadata": {},
   "source": [
    "### Hubungan antara usia dengan gender, gender dengan credit amount, gender dengan duration"
   ]
  },
  {
   "cell_type": "code",
   "execution_count": 163,
   "metadata": {},
   "outputs": [
    {
     "data": {
      "text/plain": [
       "<matplotlib.axes._subplots.AxesSubplot at 0x20233243390>"
      ]
     },
     "execution_count": 163,
     "metadata": {},
     "output_type": "execute_result"
    },
    {
     "data": {
      "image/png": "[encoded data removed]",
      "text/plain": [
       "<matplotlib.figure.Figure at 0x2023207de10>"
      ]
     },
     "metadata": {},
     "output_type": "display_data"
    }
   ],
   "source": [
    "k = plt.figure(figsize=(20,6))\n",
    "\n",
    "k.add_subplot(1,3,1)\n",
    "sns.barplot(data['Sex'], data['Age'])\n",
    "\n",
    "k.add_subplot(1,3,2)\n",
    "sns.barplot(data['Sex'], data['Credit amount'], color='green')\n",
    "\n",
    "k.add_subplot(1,3,3)\n",
    "sns.barplot(data['Sex'], data['Duration'], color='orange')"
   ]
  },
  {
   "cell_type": "markdown",
   "metadata": {},
   "source": [
    "dari 3 grafik diatas dapat ditarik insight:\n",
    "1. sebagian besar laki-laki yang meminjam kredit lebih tua daripada dengan wanita.\n",
    "2. laki laki lebih berani untuk meminjam kredit lebih banyak daripada perempuan\n",
    "3. durasi peminjaman rata-rata oleh laki-laki lebih lama daripada wanita\n",
    "<br>\n",
    "sepertinya laki-laki lebih berani dari wanita yak"
   ]
  },
  {
   "cell_type": "code",
   "execution_count": 172,
   "metadata": {},
   "outputs": [
    {
     "data": {
      "text/plain": [
       "<matplotlib.axes._subplots.AxesSubplot at 0x2022f658da0>"
      ]
     },
     "execution_count": 172,
     "metadata": {},
     "output_type": "execute_result"
    },
    {
     "data": {
      "image/png": "[encoded data removed]",
      "text/plain": [
       "<matplotlib.figure.Figure at 0x20231db9f60>"
      ]
     },
     "metadata": {},
     "output_type": "display_data"
    }
   ],
   "source": [
    "plt.figure(figsize=(16,8))\n",
    "sns.barplot(data['Age'], data['Credit amount'])"
   ]
  },
  {
   "cell_type": "markdown",
   "metadata": {},
   "source": [
    "dapat dilihat bahwa memang sebagian besar kelompok umur meminjam uangnya dibawah 4000 us dollars"
   ]
  }
 ],
 "metadata": {
  "kernelspec": {
   "display_name": "Python 3",
   "language": "python",
   "name": "python3"
  },
  "language_info": {
   "codemirror_mode": {
    "name": "ipython",
    "version": 3
   },
   "file_extension": ".py",
   "mimetype": "text/x-python",
   "name": "python",
   "nbconvert_exporter": "python",
   "pygments_lexer": "ipython3",
   "version": "3.6.4"
  }
 },
 "nbformat": 4,
 "nbformat_minor": 2
}
